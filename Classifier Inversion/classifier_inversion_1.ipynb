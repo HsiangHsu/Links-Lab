{
 "cells": [
  {
   "cell_type": "markdown",
   "metadata": {},
   "source": [
    "### Learning, Information and Knowledge Systems Lab, SEAS, Harvard University\n",
    "### Hsiang Hsu\n",
    "#### hsianghsu@g.harvard.edu\n",
    "\n",
    "# Classifier Inversion Problem\n",
    "\n",
    "**Fall 2017**<br/>\n",
    "**Instructors**: Professor Flavio Calmon\n",
    "\n",
    "---"
   ]
  },
  {
   "cell_type": "code",
   "execution_count": 1,
   "metadata": {},
   "outputs": [
    {
     "name": "stdout",
     "output_type": "stream",
     "text": [
      "Extracting MNIST_data/train-images-idx3-ubyte.gz\n",
      "Extracting MNIST_data/train-labels-idx1-ubyte.gz\n",
      "Extracting MNIST_data/t10k-images-idx3-ubyte.gz\n",
      "Extracting MNIST_data/t10k-labels-idx1-ubyte.gz\n"
     ]
    }
   ],
   "source": [
    "%matplotlib inline\n",
    "import numpy as np\n",
    "import scipy as sp\n",
    "import matplotlib.pyplot as plt\n",
    "import tensorflow as tf\n",
    "\n",
    "from tensorflow.examples.tutorials.mnist import input_data\n",
    "mnist = input_data.read_data_sets(\"MNIST_data/\", one_hot=True)"
   ]
  },
  {
   "cell_type": "markdown",
   "metadata": {},
   "source": [
    "## Testing MNIST Dataset\n",
    "\n",
    "I use the sample codes in https://www.tensorflow.org/get_started/mnist/beginners to get familiar with MNIST and tenrsorflow package."
   ]
  },
  {
   "cell_type": "code",
   "execution_count": 2,
   "metadata": {},
   "outputs": [
    {
     "name": "stdout",
     "output_type": "stream",
     "text": [
      "Extracting MNIST_data/train-images-idx3-ubyte.gz\n",
      "Extracting MNIST_data/train-labels-idx1-ubyte.gz\n",
      "Extracting MNIST_data/t10k-images-idx3-ubyte.gz\n",
      "Extracting MNIST_data/t10k-labels-idx1-ubyte.gz\n",
      "Tensor(\"Placeholder_3:0\", shape=(?, 784), dtype=float32)\n",
      "0.9207\n"
     ]
    }
   ],
   "source": [
    "#import the mnist data\n",
    "#from tensorflow.examples.tutorials.mnist import input_data\n",
    "#mnist = input_data.read_data_sets(\"MNIST_data/\", one_hot=True)\n",
    "#a custom to import tensorflow as tf\n",
    "#import tensorflow as tf\n",
    "\n",
    "x = tf.placeholder(tf.float32, [None, 784])\n",
    "W = tf.Variable(tf.zeros([784, 10]))\n",
    "b = tf.Variable(tf.zeros([10]))\n",
    "\n",
    "y = tf.nn.softmax(tf.matmul(x, W) + b)\n",
    "\n",
    "# Training\n",
    "y_ = tf.placeholder(tf.float32, [None, 10])\n",
    "cross_entropy = tf.reduce_mean(-tf.reduce_sum(y_ * tf.log(y), reduction_indices=[1]))\n",
    "train_step = tf.train.GradientDescentOptimizer(0.5).minimize(cross_entropy)\n",
    "sess = tf.InteractiveSession()\n",
    "tf.global_variables_initializer().run()\n",
    "for _ in range(1000):\n",
    "  batch_xs, batch_ys = mnist.train.next_batch(100)\n",
    "  sess.run(train_step, feed_dict={x: batch_xs, y_: batch_ys})\n",
    "\n",
    "# Evaluating\n",
    "correct_prediction = tf.equal(tf.argmax(y,1), tf.argmax(y_,1))\n",
    "accuracy = tf.reduce_mean(tf.cast(correct_prediction, tf.float32))\n",
    "print(sess.run(accuracy, feed_dict={x: mnist.test.images, y_: mnist.test.labels}))"
   ]
  },
  {
   "cell_type": "markdown",
   "metadata": {},
   "source": [
    "## Testing MNIST DNN\n",
    "\n",
    "I use the sample codes in https://www.tensorflow.org/get_started/mnist/pros to get familiar with MNIST and tenrsorflow package. The DNN is constructed by using ***convolutional*** neurons and ***ReLU*** activation functions."
   ]
  },
  {
   "cell_type": "code",
   "execution_count": 2,
   "metadata": {},
   "outputs": [
    {
     "name": "stdout",
     "output_type": "stream",
     "text": [
      "step 0, training accuracy 0.04\n"
     ]
    },
    {
     "ename": "KeyboardInterrupt",
     "evalue": "",
     "output_type": "error",
     "traceback": [
      "\u001b[0;31m---------------------------------------------------------------------------\u001b[0m",
      "\u001b[0;31mKeyboardInterrupt\u001b[0m                         Traceback (most recent call last)",
      "\u001b[0;32m<ipython-input-2-f2b3f293b3ed>\u001b[0m in \u001b[0;36m<module>\u001b[0;34m()\u001b[0m\n\u001b[1;32m     82\u001b[0m       \u001b[0mtrain_accuracy\u001b[0m \u001b[0;34m=\u001b[0m \u001b[0maccuracy\u001b[0m\u001b[0;34m.\u001b[0m\u001b[0meval\u001b[0m\u001b[0;34m(\u001b[0m\u001b[0mfeed_dict\u001b[0m\u001b[0;34m=\u001b[0m\u001b[0;34m{\u001b[0m\u001b[0mx\u001b[0m\u001b[0;34m:\u001b[0m \u001b[0mbatch\u001b[0m\u001b[0;34m[\u001b[0m\u001b[0;36m0\u001b[0m\u001b[0;34m]\u001b[0m\u001b[0;34m,\u001b[0m \u001b[0my_\u001b[0m\u001b[0;34m:\u001b[0m \u001b[0mbatch\u001b[0m\u001b[0;34m[\u001b[0m\u001b[0;36m1\u001b[0m\u001b[0;34m]\u001b[0m\u001b[0;34m,\u001b[0m \u001b[0mkeep_prob\u001b[0m\u001b[0;34m:\u001b[0m \u001b[0;36m1.0\u001b[0m\u001b[0;34m}\u001b[0m\u001b[0;34m)\u001b[0m\u001b[0;34m\u001b[0m\u001b[0m\n\u001b[1;32m     83\u001b[0m       \u001b[0mprint\u001b[0m\u001b[0;34m(\u001b[0m\u001b[0;34m'step %d, training accuracy %g'\u001b[0m \u001b[0;34m%\u001b[0m \u001b[0;34m(\u001b[0m\u001b[0mi\u001b[0m\u001b[0;34m,\u001b[0m \u001b[0mtrain_accuracy\u001b[0m\u001b[0;34m)\u001b[0m\u001b[0;34m)\u001b[0m\u001b[0;34m\u001b[0m\u001b[0m\n\u001b[0;32m---> 84\u001b[0;31m     \u001b[0mtrain_step\u001b[0m\u001b[0;34m.\u001b[0m\u001b[0mrun\u001b[0m\u001b[0;34m(\u001b[0m\u001b[0mfeed_dict\u001b[0m\u001b[0;34m=\u001b[0m\u001b[0;34m{\u001b[0m\u001b[0mx\u001b[0m\u001b[0;34m:\u001b[0m \u001b[0mbatch\u001b[0m\u001b[0;34m[\u001b[0m\u001b[0;36m0\u001b[0m\u001b[0;34m]\u001b[0m\u001b[0;34m,\u001b[0m \u001b[0my_\u001b[0m\u001b[0;34m:\u001b[0m \u001b[0mbatch\u001b[0m\u001b[0;34m[\u001b[0m\u001b[0;36m1\u001b[0m\u001b[0;34m]\u001b[0m\u001b[0;34m,\u001b[0m \u001b[0mkeep_prob\u001b[0m\u001b[0;34m:\u001b[0m \u001b[0;36m0.5\u001b[0m\u001b[0;34m}\u001b[0m\u001b[0;34m)\u001b[0m\u001b[0;34m\u001b[0m\u001b[0m\n\u001b[0m\u001b[1;32m     85\u001b[0m \u001b[0;34m\u001b[0m\u001b[0m\n\u001b[1;32m     86\u001b[0m   \u001b[0mprint\u001b[0m\u001b[0;34m(\u001b[0m\u001b[0;34m'test accuracy %g'\u001b[0m \u001b[0;34m%\u001b[0m \u001b[0maccuracy\u001b[0m\u001b[0;34m.\u001b[0m\u001b[0meval\u001b[0m\u001b[0;34m(\u001b[0m\u001b[0mfeed_dict\u001b[0m\u001b[0;34m=\u001b[0m\u001b[0;34m{\u001b[0m\u001b[0mx\u001b[0m\u001b[0;34m:\u001b[0m \u001b[0mmnist\u001b[0m\u001b[0;34m.\u001b[0m\u001b[0mtest\u001b[0m\u001b[0;34m.\u001b[0m\u001b[0mimages\u001b[0m\u001b[0;34m,\u001b[0m \u001b[0my_\u001b[0m\u001b[0;34m:\u001b[0m \u001b[0mmnist\u001b[0m\u001b[0;34m.\u001b[0m\u001b[0mtest\u001b[0m\u001b[0;34m.\u001b[0m\u001b[0mlabels\u001b[0m\u001b[0;34m,\u001b[0m \u001b[0mkeep_prob\u001b[0m\u001b[0;34m:\u001b[0m \u001b[0;36m1.0\u001b[0m\u001b[0;34m}\u001b[0m\u001b[0;34m)\u001b[0m\u001b[0;34m)\u001b[0m\u001b[0;34m\u001b[0m\u001b[0m\n",
      "\u001b[0;32m/Users/hsianghsu/anaconda/lib/python3.6/site-packages/tensorflow/python/framework/ops.py\u001b[0m in \u001b[0;36mrun\u001b[0;34m(self, feed_dict, session)\u001b[0m\n\u001b[1;32m   1742\u001b[0m         \u001b[0mnone\u001b[0m\u001b[0;34m,\u001b[0m \u001b[0mthe\u001b[0m \u001b[0mdefault\u001b[0m \u001b[0msession\u001b[0m \u001b[0mwill\u001b[0m \u001b[0mbe\u001b[0m \u001b[0mused\u001b[0m\u001b[0;34m.\u001b[0m\u001b[0;34m\u001b[0m\u001b[0m\n\u001b[1;32m   1743\u001b[0m     \"\"\"\n\u001b[0;32m-> 1744\u001b[0;31m     \u001b[0m_run_using_default_session\u001b[0m\u001b[0;34m(\u001b[0m\u001b[0mself\u001b[0m\u001b[0;34m,\u001b[0m \u001b[0mfeed_dict\u001b[0m\u001b[0;34m,\u001b[0m \u001b[0mself\u001b[0m\u001b[0;34m.\u001b[0m\u001b[0mgraph\u001b[0m\u001b[0;34m,\u001b[0m \u001b[0msession\u001b[0m\u001b[0;34m)\u001b[0m\u001b[0;34m\u001b[0m\u001b[0m\n\u001b[0m\u001b[1;32m   1745\u001b[0m \u001b[0;34m\u001b[0m\u001b[0m\n\u001b[1;32m   1746\u001b[0m \u001b[0;34m\u001b[0m\u001b[0m\n",
      "\u001b[0;32m/Users/hsianghsu/anaconda/lib/python3.6/site-packages/tensorflow/python/framework/ops.py\u001b[0m in \u001b[0;36m_run_using_default_session\u001b[0;34m(operation, feed_dict, graph, session)\u001b[0m\n\u001b[1;32m   4118\u001b[0m                        \u001b[0;34m\"the operation's graph is different from the session's \"\u001b[0m\u001b[0;34m\u001b[0m\u001b[0m\n\u001b[1;32m   4119\u001b[0m                        \"graph.\")\n\u001b[0;32m-> 4120\u001b[0;31m   \u001b[0msession\u001b[0m\u001b[0;34m.\u001b[0m\u001b[0mrun\u001b[0m\u001b[0;34m(\u001b[0m\u001b[0moperation\u001b[0m\u001b[0;34m,\u001b[0m \u001b[0mfeed_dict\u001b[0m\u001b[0;34m)\u001b[0m\u001b[0;34m\u001b[0m\u001b[0m\n\u001b[0m\u001b[1;32m   4121\u001b[0m \u001b[0;34m\u001b[0m\u001b[0m\n\u001b[1;32m   4122\u001b[0m \u001b[0;34m\u001b[0m\u001b[0m\n",
      "\u001b[0;32m/Users/hsianghsu/anaconda/lib/python3.6/site-packages/tensorflow/python/client/session.py\u001b[0m in \u001b[0;36mrun\u001b[0;34m(self, fetches, feed_dict, options, run_metadata)\u001b[0m\n\u001b[1;32m    893\u001b[0m     \u001b[0;32mtry\u001b[0m\u001b[0;34m:\u001b[0m\u001b[0;34m\u001b[0m\u001b[0m\n\u001b[1;32m    894\u001b[0m       result = self._run(None, fetches, feed_dict, options_ptr,\n\u001b[0;32m--> 895\u001b[0;31m                          run_metadata_ptr)\n\u001b[0m\u001b[1;32m    896\u001b[0m       \u001b[0;32mif\u001b[0m \u001b[0mrun_metadata\u001b[0m\u001b[0;34m:\u001b[0m\u001b[0;34m\u001b[0m\u001b[0m\n\u001b[1;32m    897\u001b[0m         \u001b[0mproto_data\u001b[0m \u001b[0;34m=\u001b[0m \u001b[0mtf_session\u001b[0m\u001b[0;34m.\u001b[0m\u001b[0mTF_GetBuffer\u001b[0m\u001b[0;34m(\u001b[0m\u001b[0mrun_metadata_ptr\u001b[0m\u001b[0;34m)\u001b[0m\u001b[0;34m\u001b[0m\u001b[0m\n",
      "\u001b[0;32m/Users/hsianghsu/anaconda/lib/python3.6/site-packages/tensorflow/python/client/session.py\u001b[0m in \u001b[0;36m_run\u001b[0;34m(self, handle, fetches, feed_dict, options, run_metadata)\u001b[0m\n\u001b[1;32m   1122\u001b[0m     \u001b[0;32mif\u001b[0m \u001b[0mfinal_fetches\u001b[0m \u001b[0;32mor\u001b[0m \u001b[0mfinal_targets\u001b[0m \u001b[0;32mor\u001b[0m \u001b[0;34m(\u001b[0m\u001b[0mhandle\u001b[0m \u001b[0;32mand\u001b[0m \u001b[0mfeed_dict_tensor\u001b[0m\u001b[0;34m)\u001b[0m\u001b[0;34m:\u001b[0m\u001b[0;34m\u001b[0m\u001b[0m\n\u001b[1;32m   1123\u001b[0m       results = self._do_run(handle, final_targets, final_fetches,\n\u001b[0;32m-> 1124\u001b[0;31m                              feed_dict_tensor, options, run_metadata)\n\u001b[0m\u001b[1;32m   1125\u001b[0m     \u001b[0;32melse\u001b[0m\u001b[0;34m:\u001b[0m\u001b[0;34m\u001b[0m\u001b[0m\n\u001b[1;32m   1126\u001b[0m       \u001b[0mresults\u001b[0m \u001b[0;34m=\u001b[0m \u001b[0;34m[\u001b[0m\u001b[0;34m]\u001b[0m\u001b[0;34m\u001b[0m\u001b[0m\n",
      "\u001b[0;32m/Users/hsianghsu/anaconda/lib/python3.6/site-packages/tensorflow/python/client/session.py\u001b[0m in \u001b[0;36m_do_run\u001b[0;34m(self, handle, target_list, fetch_list, feed_dict, options, run_metadata)\u001b[0m\n\u001b[1;32m   1319\u001b[0m     \u001b[0;32mif\u001b[0m \u001b[0mhandle\u001b[0m \u001b[0;32mis\u001b[0m \u001b[0;32mNone\u001b[0m\u001b[0;34m:\u001b[0m\u001b[0;34m\u001b[0m\u001b[0m\n\u001b[1;32m   1320\u001b[0m       return self._do_call(_run_fn, self._session, feeds, fetches, targets,\n\u001b[0;32m-> 1321\u001b[0;31m                            options, run_metadata)\n\u001b[0m\u001b[1;32m   1322\u001b[0m     \u001b[0;32melse\u001b[0m\u001b[0;34m:\u001b[0m\u001b[0;34m\u001b[0m\u001b[0m\n\u001b[1;32m   1323\u001b[0m       \u001b[0;32mreturn\u001b[0m \u001b[0mself\u001b[0m\u001b[0;34m.\u001b[0m\u001b[0m_do_call\u001b[0m\u001b[0;34m(\u001b[0m\u001b[0m_prun_fn\u001b[0m\u001b[0;34m,\u001b[0m \u001b[0mself\u001b[0m\u001b[0;34m.\u001b[0m\u001b[0m_session\u001b[0m\u001b[0;34m,\u001b[0m \u001b[0mhandle\u001b[0m\u001b[0;34m,\u001b[0m \u001b[0mfeeds\u001b[0m\u001b[0;34m,\u001b[0m \u001b[0mfetches\u001b[0m\u001b[0;34m)\u001b[0m\u001b[0;34m\u001b[0m\u001b[0m\n",
      "\u001b[0;32m/Users/hsianghsu/anaconda/lib/python3.6/site-packages/tensorflow/python/client/session.py\u001b[0m in \u001b[0;36m_do_call\u001b[0;34m(self, fn, *args)\u001b[0m\n\u001b[1;32m   1325\u001b[0m   \u001b[0;32mdef\u001b[0m \u001b[0m_do_call\u001b[0m\u001b[0;34m(\u001b[0m\u001b[0mself\u001b[0m\u001b[0;34m,\u001b[0m \u001b[0mfn\u001b[0m\u001b[0;34m,\u001b[0m \u001b[0;34m*\u001b[0m\u001b[0margs\u001b[0m\u001b[0;34m)\u001b[0m\u001b[0;34m:\u001b[0m\u001b[0;34m\u001b[0m\u001b[0m\n\u001b[1;32m   1326\u001b[0m     \u001b[0;32mtry\u001b[0m\u001b[0;34m:\u001b[0m\u001b[0;34m\u001b[0m\u001b[0m\n\u001b[0;32m-> 1327\u001b[0;31m       \u001b[0;32mreturn\u001b[0m \u001b[0mfn\u001b[0m\u001b[0;34m(\u001b[0m\u001b[0;34m*\u001b[0m\u001b[0margs\u001b[0m\u001b[0;34m)\u001b[0m\u001b[0;34m\u001b[0m\u001b[0m\n\u001b[0m\u001b[1;32m   1328\u001b[0m     \u001b[0;32mexcept\u001b[0m \u001b[0merrors\u001b[0m\u001b[0;34m.\u001b[0m\u001b[0mOpError\u001b[0m \u001b[0;32mas\u001b[0m \u001b[0me\u001b[0m\u001b[0;34m:\u001b[0m\u001b[0;34m\u001b[0m\u001b[0m\n\u001b[1;32m   1329\u001b[0m       \u001b[0mmessage\u001b[0m \u001b[0;34m=\u001b[0m \u001b[0mcompat\u001b[0m\u001b[0;34m.\u001b[0m\u001b[0mas_text\u001b[0m\u001b[0;34m(\u001b[0m\u001b[0me\u001b[0m\u001b[0;34m.\u001b[0m\u001b[0mmessage\u001b[0m\u001b[0;34m)\u001b[0m\u001b[0;34m\u001b[0m\u001b[0m\n",
      "\u001b[0;32m/Users/hsianghsu/anaconda/lib/python3.6/site-packages/tensorflow/python/client/session.py\u001b[0m in \u001b[0;36m_run_fn\u001b[0;34m(session, feed_dict, fetch_list, target_list, options, run_metadata)\u001b[0m\n\u001b[1;32m   1304\u001b[0m           return tf_session.TF_Run(session, options,\n\u001b[1;32m   1305\u001b[0m                                    \u001b[0mfeed_dict\u001b[0m\u001b[0;34m,\u001b[0m \u001b[0mfetch_list\u001b[0m\u001b[0;34m,\u001b[0m \u001b[0mtarget_list\u001b[0m\u001b[0;34m,\u001b[0m\u001b[0;34m\u001b[0m\u001b[0m\n\u001b[0;32m-> 1306\u001b[0;31m                                    status, run_metadata)\n\u001b[0m\u001b[1;32m   1307\u001b[0m \u001b[0;34m\u001b[0m\u001b[0m\n\u001b[1;32m   1308\u001b[0m     \u001b[0;32mdef\u001b[0m \u001b[0m_prun_fn\u001b[0m\u001b[0;34m(\u001b[0m\u001b[0msession\u001b[0m\u001b[0;34m,\u001b[0m \u001b[0mhandle\u001b[0m\u001b[0;34m,\u001b[0m \u001b[0mfeed_dict\u001b[0m\u001b[0;34m,\u001b[0m \u001b[0mfetch_list\u001b[0m\u001b[0;34m)\u001b[0m\u001b[0;34m:\u001b[0m\u001b[0;34m\u001b[0m\u001b[0m\n",
      "\u001b[0;31mKeyboardInterrupt\u001b[0m: "
     ]
    }
   ],
   "source": [
    "sess = tf.InteractiveSession()\n",
    "'''\n",
    "# A softmax regression model\n",
    "x = tf.placeholder(tf.float32, shape=[None, 784])\n",
    "y_ = tf.placeholder(tf.float32, shape=[None, 10])\n",
    "W = tf.Variable(tf.zeros([784,10]))\n",
    "b = tf.Variable(tf.zeros([10]))\n",
    "\n",
    "sess.run(tf.global_variables_initializer())\n",
    "\n",
    "y = tf.matmul(x,W) + b\n",
    "cross_entropy = tf.reduce_mean(tf.nn.softmax_cross_entropy_with_logits(labels=y_, logits=y))\n",
    "\n",
    "train_step = tf.train.GradientDescentOptimizer(0.5).minimize(cross_entropy)\n",
    "for _ in range(1000):\n",
    "  batch = mnist.train.next_batch(100)\n",
    "  train_step.run(feed_dict={x: batch[0], y_: batch[1]})\n",
    "\n",
    "correct_prediction = tf.equal(tf.argmax(y,1), tf.argmax(y_,1))\n",
    "accuracy = tf.reduce_mean(tf.cast(correct_prediction, tf.float32))\n",
    "print(accuracy.eval(feed_dict={x: mnist.test.images, y_: mnist.test.labels}))\n",
    "'''\n",
    "# Multilayer Convolutional Networks\n",
    "def weight_variable(shape):\n",
    "  initial = tf.truncated_normal(shape, stddev=0.1)\n",
    "  return tf.Variable(initial)\n",
    "\n",
    "def bias_variable(shape):\n",
    "  initial = tf.constant(0.1, shape=shape)\n",
    "  return tf.Variable(initial)\n",
    "\n",
    "def conv2d(x, W):\n",
    "  return tf.nn.conv2d(x, W, strides=[1, 1, 1, 1], padding='SAME')\n",
    "\n",
    "def max_pool_2x2(x):\n",
    "  return tf.nn.max_pool(x, ksize=[1, 2, 2, 1],\n",
    "                        strides=[1, 2, 2, 1], padding='SAME')\n",
    "\n",
    "x = tf.placeholder(tf.float32, [None, 784])\n",
    "y_ = tf.placeholder(tf.float32, shape=[None, 10])\n",
    "# First layer\n",
    "W_conv1 = weight_variable([5, 5, 1, 32])\n",
    "b_conv1 = bias_variable([32])\n",
    "x_image = tf.reshape(x, [-1, 28, 28, 1])\n",
    "h_conv1 = tf.nn.relu(conv2d(x_image, W_conv1) + b_conv1)\n",
    "h_pool1 = max_pool_2x2(h_conv1)\n",
    "\n",
    "# Second layer\n",
    "W_conv2 = weight_variable([5, 5, 32, 64])\n",
    "b_conv2 = bias_variable([64])\n",
    "h_conv2 = tf.nn.relu(conv2d(h_pool1, W_conv2) + b_conv2)\n",
    "h_pool2 = max_pool_2x2(h_conv2)\n",
    "\n",
    "# Densely connected layer\n",
    "W_fc1 = weight_variable([7 * 7 * 64, 1024])\n",
    "b_fc1 = bias_variable([1024])\n",
    "h_pool2_flat = tf.reshape(h_pool2, [-1, 7*7*64])\n",
    "h_fc1 = tf.nn.relu(tf.matmul(h_pool2_flat, W_fc1) + b_fc1)\n",
    "\n",
    "# Dropout to avoid overfitting\n",
    "keep_prob = tf.placeholder(tf.float32)\n",
    "h_fc1_drop = tf.nn.dropout(h_fc1, keep_prob)\n",
    "\n",
    "# Readout layer\n",
    "W_fc2 = weight_variable([1024, 10])\n",
    "b_fc2 = bias_variable([10])\n",
    "y_conv = tf.matmul(h_fc1_drop, W_fc2) + b_fc2\n",
    "\n",
    "# Train and evalute the models\n",
    "# Input: y_conv, y_\n",
    "cross_entropy = tf.reduce_mean(tf.nn.softmax_cross_entropy_with_logits(labels=y_, logits=y_conv))\n",
    "train_step = tf.train.AdamOptimizer(1e-4).minimize(cross_entropy)\n",
    "correct_prediction = tf.equal(tf.argmax(y_conv, 1), tf.argmax(y_, 1))\n",
    "accuracy = tf.reduce_mean(tf.cast(correct_prediction, tf.float32))\n",
    "\n",
    "\n",
    "with tf.Session() as sess:\n",
    "  sess.run(tf.global_variables_initializer())\n",
    "  for i in range(2000):\n",
    "    batch = mnist.train.next_batch(50)\n",
    "    if i % 100 == 0:\n",
    "      train_accuracy = accuracy.eval(feed_dict={x: batch[0], y_: batch[1], keep_prob: 1.0})\n",
    "      print('step %d, training accuracy %g' % (i, train_accuracy))\n",
    "    train_step.run(feed_dict={x: batch[0], y_: batch[1], keep_prob: 0.5})\n",
    "\n",
    "  print('test accuracy %g' % accuracy.eval(feed_dict={x: mnist.test.images, y_: mnist.test.labels, keep_prob: 1.0}))"
   ]
  },
  {
   "cell_type": "markdown",
   "metadata": {},
   "source": [
    "## Plot MNIST handwritting figures"
   ]
  },
  {
   "cell_type": "code",
   "execution_count": 46,
   "metadata": {
    "collapsed": true
   },
   "outputs": [],
   "source": [
    "def draw_mnist(n):\n",
    "    image_arr = mnist.train.images[n]\n",
    "    label_arr = mnist.train.labels[n]\n",
    "    label = np.where(label_arr==1)[0][0]\n",
    "    image = np.reshape(image_arr, (28, 28))\n",
    "    plt.imshow(image, cmap='gray')\n",
    "    plt.title('%s'%label)\n",
    "    plt.show()"
   ]
  },
  {
   "cell_type": "code",
   "execution_count": 47,
   "metadata": {},
   "outputs": [
    {
     "data": {
      "image/png": "[encoded data removed]",
      "text/plain": [
       "<matplotlib.figure.Figure at 0x11577c240>"
      ]
     },
     "metadata": {},
     "output_type": "display_data"
    }
   ],
   "source": [
    "#print mnist.train.images[1]\n",
    "\n",
    "draw_mnist(1000)"
   ]
  },
  {
   "cell_type": "markdown",
   "metadata": {},
   "source": [
    "## Plot noisy data"
   ]
  },
  {
   "cell_type": "code",
   "execution_count": 41,
   "metadata": {},
   "outputs": [
    {
     "data": {
      "image/png": "[encoded data removed]",
      "text/plain": [
       "<matplotlib.figure.Figure at 0x1299c11d0>"
      ]
     },
     "metadata": {},
     "output_type": "display_data"
    }
   ],
   "source": [
    "n = 1\n",
    "image_arr = mnist.train.images[n]\n",
    "label_arr = mnist.train.labels[n]\n",
    "label = np.where(label_arr==1)[0]\n",
    "image = np.reshape(image_arr, (28, 28))\n",
    "\n",
    "f, ax = plt.subplots(1, 3)\n",
    "ax[0].imshow(image, cmap='gray');\n",
    "ax[0].set_title('%s'%label[0]);\n",
    "\n",
    "noise = np.random.rand(28, 28)\n",
    "ax[1].imshow(noise, cmap='gray');\n",
    "ax[1].set_title('Noise');\n",
    "\n",
    "ax[2].imshow(np.add(image, noise), cmap='gray');\n",
    "ax[2].set_title('Noise');"
   ]
  },
  {
   "cell_type": "markdown",
   "metadata": {},
   "source": [
    "## Test on extracting prediction results"
   ]
  },
  {
   "cell_type": "code",
   "execution_count": 40,
   "metadata": {
    "scrolled": false
   },
   "outputs": [
    {
     "name": "stdout",
     "output_type": "stream",
     "text": [
      "step 0, has used 0 samples, training accuracy 0.08\n",
      "step 100, has used 5000 samples, training accuracy 0.82\n",
      "7\n"
     ]
    }
   ],
   "source": [
    "x = tf.placeholder(tf.float32, [None, 784])\n",
    "y_ = tf.placeholder(tf.float32, shape=[None, 10])\n",
    "\n",
    "# Multilayer Convolutional Networks\n",
    "def weight_variable(shape):\n",
    "    initial = tf.truncated_normal(shape, stddev=0.1)\n",
    "    return tf.Variable(initial)\n",
    "\n",
    "def bias_variable(shape):\n",
    "    initial = tf.constant(0.1, shape=shape)\n",
    "    return tf.Variable(initial)\n",
    "\n",
    "def conv2d(x, W):\n",
    "    return tf.nn.conv2d(x, W, strides=[1, 1, 1, 1], padding='SAME')\n",
    "\n",
    "def max_pool_2x2(x):\n",
    "    return tf.nn.max_pool(x, ksize=[1, 2, 2, 1],\n",
    "                        strides=[1, 2, 2, 1], padding='SAME')\n",
    "\n",
    "\n",
    "# First layer\n",
    "W_conv1 = weight_variable([5, 5, 1, 32])\n",
    "b_conv1 = bias_variable([32])\n",
    "x_image = tf.reshape(x, [-1, 28, 28, 1])\n",
    "h_conv1 = tf.nn.relu(conv2d(x_image, W_conv1) + b_conv1)\n",
    "h_pool1 = max_pool_2x2(h_conv1)\n",
    "\n",
    "# Second layer\n",
    "W_conv2 = weight_variable([5, 5, 32, 64])\n",
    "b_conv2 = bias_variable([64])\n",
    "h_conv2 = tf.nn.relu(conv2d(h_pool1, W_conv2) + b_conv2)\n",
    "h_pool2 = max_pool_2x2(h_conv2)\n",
    "\n",
    "# Densely connected layer\n",
    "W_fc1 = weight_variable([7 * 7 * 64, 1024])\n",
    "b_fc1 = bias_variable([1024])\n",
    "h_pool2_flat = tf.reshape(h_pool2, [-1, 7*7*64])\n",
    "h_fc1 = tf.nn.relu(tf.matmul(h_pool2_flat, W_fc1) + b_fc1)\n",
    "\n",
    "# Dropout to avoid overfitting\n",
    "keep_prob = tf.placeholder(tf.float32)\n",
    "h_fc1_drop = tf.nn.dropout(h_fc1, keep_prob)\n",
    "\n",
    "# Readout layer\n",
    "W_fc2 = weight_variable([1024, 10])\n",
    "b_fc2 = bias_variable([10])\n",
    "y_conv = tf.matmul(h_fc1_drop, W_fc2) + b_fc2\n",
    "\n",
    "# Train and evalute the models\n",
    "# Input: y_conv, y_\n",
    "cross_entropy = tf.reduce_mean(tf.nn.softmax_cross_entropy_with_logits(labels=y_, logits=y_conv))\n",
    "train_step = tf.train.AdamOptimizer(1e-4).minimize(cross_entropy)\n",
    "prediction = tf.argmax(y_conv,1)\n",
    "correct_prediction = tf.equal(tf.argmax(y_conv, 1), tf.argmax(y_, 1))\n",
    "accuracy = tf.reduce_mean(tf.cast(correct_prediction, tf.float32))\n",
    "\n",
    "# Start the interactive session\n",
    "with tf.Session() as sess:\n",
    "    sess.run(tf.global_variables_initializer())\n",
    "    for i in range(200):\n",
    "        batch = mnist.train.next_batch(50)\n",
    "        if i % 100 == 0:\n",
    "            train_accuracy = accuracy.eval(feed_dict={x: batch[0], y_: batch[1], keep_prob: 1.0})\n",
    "            print('step %d, has used %d samples, training accuracy %g' % (i, 50*i, train_accuracy))\n",
    "        train_step.run(feed_dict={x: batch[0], y_: batch[1], keep_prob: 0.5})\n",
    "\n",
    "    #print('test accuracy %g' % accuracy.eval(feed_dict={x: mnist.test.images, y_: mnist.test.labels, keep_prob: 1.0}))\n",
    "    number = prediction.eval(feed_dict={x: mnist.test.images[0:2], keep_prob: 1.0})[0]\n",
    "    \n",
    "print(number)"
   ]
  },
  {
   "cell_type": "markdown",
   "metadata": {},
   "source": [
    "## Test on sci.optimization BFGS"
   ]
  },
  {
   "cell_type": "code",
   "execution_count": 45,
   "metadata": {},
   "outputs": [
    {
     "name": "stdout",
     "output_type": "stream",
     "text": [
      "BFGS optimization without gradient information\n",
      "Warning: Desired error not necessarily achieved due to precision loss.\n",
      "         Current function value: 0.000000\n",
      "         Iterations: 37\n",
      "         Function evaluations: 901\n",
      "         Gradient evaluations: 127\n",
      "[ 0.99999213  0.99998425  0.99996854  0.99993708  0.99987415]\n"
     ]
    }
   ],
   "source": [
    "from scipy.optimize import minimize\n",
    "\n",
    "x0 = np.array([1.3, 0.7, 0.8, 1.9, 1.2])\n",
    "y0 = 10\n",
    "\n",
    "def rosen(x, y):\n",
    "    return sum(y*100.0*(x[1:]-x[:-1]**2.0)**2.0 + (1-x[:-1])**2.0)\n",
    "\n",
    "def rosen_der(x):\n",
    "    xm = x[1:-1]\n",
    "    xm_m1 = x[:-2]\n",
    "    xm_p1 = x[2:]\n",
    "    der = np.zeros_like(x)\n",
    "    der[1:-1] = 200*(xm-xm_m1**2) - 400*(xm_p1 - xm**2)*xm - 2*(1-xm)\n",
    "    der[0] = -400*x[0]*(x[1]-x[0]**2) - 2*(1-x[0])\n",
    "    der[-1] = 200*(x[-1]-x[-2]**2)\n",
    "    return der\n",
    "\n",
    "print('BFGS optimization without gradient information')\n",
    "res = minimize(rosen, x0, y0, method='BFGS', options={'disp': True})\n",
    "print(res.x)"
   ]
  },
  {
   "cell_type": "markdown",
   "metadata": {},
   "source": [
    "## Test on generating MNIST data"
   ]
  },
  {
   "cell_type": "code",
   "execution_count": 9,
   "metadata": {},
   "outputs": [
    {
     "data": {
      "image/png": "[encoded data removed]",
      "text/plain": [
       "<matplotlib.figure.Figure at 0x124db3748>"
      ]
     },
     "metadata": {},
     "output_type": "display_data"
    }
   ],
   "source": [
    "generate_random_matrix = np.random.rand(28, 28)\n",
    "#print(type(generate_random_matrix))\n",
    "plt.imshow(generate_random_matrix, cmap='gray')\n",
    "plt.title('%s'%label[0])\n",
    "plt.show()"
   ]
  },
  {
   "cell_type": "markdown",
   "metadata": {},
   "source": [
    "## Test on constraints"
   ]
  },
  {
   "cell_type": "code",
   "execution_count": 8,
   "metadata": {},
   "outputs": [
    {
     "name": "stdout",
     "output_type": "stream",
     "text": [
      "0\n"
     ]
    }
   ],
   "source": [
    "noise = np.random.rand(1, 28*28)\n",
    "const = (noise >= 0) & (noise <= 1)\n",
    "satisty = np.sum( const[0] ) - 28*28\n",
    "print(satisty)"
   ]
  },
  {
   "cell_type": "markdown",
   "metadata": {},
   "source": [
    "## Test to train random image"
   ]
  },
  {
   "cell_type": "code",
   "execution_count": 40,
   "metadata": {},
   "outputs": [
    {
     "name": "stdout",
     "output_type": "stream",
     "text": [
      "step 100, has used 2000 samples, training accuracy 0.9\n",
      "step 200, has used 4000 samples, training accuracy 0.9\n",
      "step 300, has used 6000 samples, training accuracy 1\n",
      "step 400, has used 8000 samples, training accuracy 0.9\n",
      "step 500, has used 10000 samples, training accuracy 0.9\n",
      "test accuracy 0.9258\n",
      "Singular matrix C in LSQ subproblem    (Exit mode 6)\n",
      "            Current function value: -516.1036644632587\n",
      "            Iterations: 1\n",
      "            Function evaluations: 786\n",
      "            Gradient evaluations: 1\n",
      "The Frobenius norm of the perturbation is 16.103664\n"
     ]
    },
    {
     "data": {
      "image/png": "[encoded data removed]",
      "text/plain": [
       "<matplotlib.figure.Figure at 0x1202fae48>"
      ]
     },
     "metadata": {},
     "output_type": "display_data"
    }
   ],
   "source": [
    "# train the DNN\n",
    "from scipy.optimize import minimize\n",
    "\n",
    "x = tf.placeholder(tf.float32, [None, 784])\n",
    "y_ = tf.placeholder(tf.float32, shape=[None, 10])\n",
    "initial_image_index = np.random.randint(0, 5000-1)\n",
    "scalarization_parameter = 500\n",
    "\n",
    "# Multilayer Convolutional Networks\n",
    "def weight_variable(shape):\n",
    "    initial = tf.truncated_normal(shape, stddev=0.1)\n",
    "    return tf.Variable(initial)\n",
    "\n",
    "def bias_variable(shape):\n",
    "    initial = tf.constant(0.1, shape=shape)\n",
    "    return tf.Variable(initial)\n",
    "\n",
    "def conv2d(x, W):\n",
    "    return tf.nn.conv2d(x, W, strides=[1, 1, 1, 1], padding='SAME')\n",
    "\n",
    "def max_pool_2x2(x):\n",
    "    return tf.nn.max_pool(x, ksize=[1, 2, 2, 1],\n",
    "                        strides=[1, 2, 2, 1], padding='SAME')\n",
    "\n",
    "\n",
    "# First layer\n",
    "W_conv1 = weight_variable([5, 5, 1, 32])\n",
    "b_conv1 = bias_variable([32])\n",
    "x_image = tf.reshape(x, [-1, 28, 28, 1])\n",
    "h_conv1 = tf.nn.relu(conv2d(x_image, W_conv1) + b_conv1)\n",
    "h_pool1 = max_pool_2x2(h_conv1)\n",
    "\n",
    "# Second layer\n",
    "W_conv2 = weight_variable([5, 5, 32, 64])\n",
    "b_conv2 = bias_variable([64])\n",
    "h_conv2 = tf.nn.relu(conv2d(h_pool1, W_conv2) + b_conv2)\n",
    "h_pool2 = max_pool_2x2(h_conv2)\n",
    "\n",
    "# Densely connected layer\n",
    "W_fc1 = weight_variable([7 * 7 * 64, 1024])\n",
    "b_fc1 = bias_variable([1024])\n",
    "h_pool2_flat = tf.reshape(h_pool2, [-1, 7*7*64])\n",
    "h_fc1 = tf.nn.relu(tf.matmul(h_pool2_flat, W_fc1) + b_fc1)\n",
    "\n",
    "# Dropout to avoid overfitting\n",
    "keep_prob = tf.placeholder(tf.float32)\n",
    "h_fc1_drop = tf.nn.dropout(h_fc1, keep_prob)\n",
    "\n",
    "# Readout layer\n",
    "W_fc2 = weight_variable([1024, 10])\n",
    "b_fc2 = bias_variable([10])\n",
    "y_conv = tf.matmul(h_fc1_drop, W_fc2) + b_fc2\n",
    "\n",
    "# Train and evalute the models\n",
    "# Input: y_conv, y_\n",
    "cross_entropy = tf.reduce_mean(tf.nn.softmax_cross_entropy_with_logits(labels=y_, logits=y_conv))\n",
    "train_step = tf.train.AdamOptimizer(1e-4).minimize(cross_entropy)\n",
    "prediction = tf.argmax(y_conv,1)\n",
    "correct_prediction = tf.equal(tf.argmax(y_conv, 1), tf.argmax(y_, 1))\n",
    "accuracy = tf.reduce_mean(tf.cast(correct_prediction, tf.float32))\n",
    "\n",
    "''' Defining loss function '''\n",
    "def loss(l_1, l_2):\n",
    "    #return np.log(1 + np.exp(-abs(l_1-l_2)))/np.log(2)\n",
    "    return (-1) * ( np.log(1 + np.exp(-abs(l_1-l_2)))/np.log(2) )\n",
    "'''\n",
    "\n",
    "def objective(r, c, x, l):\n",
    "    return (-1)*LA.norm(r, ord=None) + c*loss(l, prediction.eval(feed_dict={x: mnist.test.images[0:2], keep_prob: 1.0}))\n",
    "\n",
    "def objective(r, c, x, l_1):\n",
    "    return (-1)*LA.norm(r, ord=None) + c*loss(l_1, prediction.eval(feed_dict={x: np.add(x, r), keep_prob: 1.0})[0])\n",
    "'''\n",
    "\n",
    "\n",
    "# Start the interactive session\n",
    "with tf.Session() as sess:\n",
    "    ''' Training the classifier '''\n",
    "    batch_size = 20\n",
    "    training_times = 500\n",
    "    sess.run(tf.global_variables_initializer())\n",
    "    for i in range(training_times):\n",
    "        batch = mnist.train.next_batch(batch_size)\n",
    "        if (i+1) % 100 == 0:\n",
    "            train_accuracy = accuracy.eval(feed_dict={x: batch[0], y_: batch[1], keep_prob: 1.0})\n",
    "            print('step %d, has used %d samples, training accuracy %g' % ((i+1), batch_size*(i+1), train_accuracy))\n",
    "        train_step.run(feed_dict={x: batch[0], y_: batch[1], keep_prob: 0.5})\n",
    "\n",
    "    print('test accuracy %g' % accuracy.eval(feed_dict={x: mnist.test.images, y_: mnist.test.labels, keep_prob: 1.0}))\n",
    "    \n",
    "    f, ax = plt.subplots(1, 3, figsize=(15, 5))\n",
    "    \n",
    "    ''' Plot initial image '''\n",
    "    initial_image = mnist.test.images[initial_image_index]\n",
    "    initial_label_arr = mnist.test.labels[initial_image_index]\n",
    "    initial_label = np.where(initial_label_arr==1)[0][0]\n",
    "    image = np.reshape(initial_image, (28, 28))\n",
    "    ax[0].imshow(image, cmap='gray')\n",
    "    ax[0].set_title('Initial Image with label %s'%initial_label)\n",
    "    \n",
    "    ''' Define functions for optimization '''\n",
    "    def objective(r):\n",
    "        return (-1)*np.linalg.norm(r, ord=None) + scalarization_parameter * \\\n",
    "                loss(initial_label, prediction.eval(feed_dict={x: np.reshape(np.add(initial_image, r), (1, 784)), keep_prob: 1.0})[0])\n",
    "        \n",
    "    def constrain(r):\n",
    "        add_image = np.add(initial_image, r)\n",
    "        const = (add_image >= 0) & (add_image <= 1)\n",
    "        return np.sum( const[0] ) - 28*28\n",
    "    \n",
    "    cons = {'type':'eq', 'fun': constrain}\n",
    "    \n",
    "    ''' Running BFGS-L algorithm '''\n",
    "    # Methods L-BFGS-B and BFGS are not supported with constraints\n",
    "    # Method COBYLA is not supported with constrains in 'eq' type \n",
    "    initial_noise = np.random.rand(1, 784)\n",
    "    perturb = minimize(objective, initial_noise, method='SLSQP', options={'maxiter': 50, 'disp': True}, constraints = cons)\n",
    "    \n",
    "    perturbation = np.reshape(perturb.x, (28, 28))\n",
    "    ax[1].imshow(perturbation, cmap='gray')\n",
    "    ax[1].set_title('Perturbation')\n",
    "    \n",
    "    new_image = np.add(initial_image, perturb.x)\n",
    "    new_label = prediction.eval(feed_dict={x: np.reshape(new_image, (1, 784)), keep_prob: 1.0})[0]\n",
    "    ax[2].imshow(np.reshape(new_image, (28, 28)), cmap='gray')\n",
    "    ax[2].set_title('Perturbed Image with predicted label %s'%new_label)\n",
    "    \n",
    "    print('The Frobenius norm of the perturbation is %f' %np.linalg.norm(perturb.x, ord=None))\n",
    "    \n",
    "    \n",
    "    \n",
    "    #test_image = np.random.rand(1, 784)\n",
    "    #print(type(mnist.test.images[0:1]))\n",
    "    '''\n",
    "    def objective(r, c, x, l_1):\n",
    "        return (-1)*LA.norm(r, ord=None) + c*loss(l_1, prediction.eval(feed_dict={x: np.add(x, r), keep_prob: 1.0})[0])\n",
    "    '''\n",
    "    #g = lambda image: prediction.eval(feed_dict={x: image, keep_prob: 1.0})\n",
    "    \n",
    "    #number = prediction.eval(feed_dict={x: test_image, keep_prob: 1.0})\n",
    "    \n",
    "    #image = np.reshape(test_image, (28, 28))\n",
    "    #plt.imshow(image, cmap='gray')\n",
    "    #plt.show()\n",
    "    \n",
    "    \n",
    "#print(g(np.random.rand(1, 784)))   \n",
    "#print(number, number[0])"
   ]
  },
  {
   "cell_type": "code",
   "execution_count": 33,
   "metadata": {},
   "outputs": [
    {
     "name": "stdout",
     "output_type": "stream",
     "text": [
      "[ 0.64660555  0.36747276  0.42611279  0.31758295  0.11263094  0.59414154\n",
      "  0.13298035  0.91021125  0.15671657  0.55402752  0.51206256  0.96468436\n",
      "  0.71257996  0.69883596  0.70097881  0.43334909  0.30537086  0.85288371\n",
      "  0.84321281  0.77984594  0.17518674  0.30858518  0.96333284  0.12391091\n",
      "  0.04466358  0.88714543  0.70577525  0.81432018  0.95445308  0.34532148\n",
      "  0.01571567  0.31710627  0.39905929  0.74315951  0.64732248  0.29669167\n",
      "  0.69624094  0.91923109  0.76255398  0.43469965  0.14498762  0.5835303\n",
      "  0.90487765  0.51293481  0.09324051  0.98693989  0.28435366  0.66509795\n",
      "  0.73247183  0.00422529  0.74777147  0.35918492  0.91787994  0.20883013\n",
      "  0.89969855  0.75860124  0.81928668  0.16314416  0.53586321  0.94712145\n",
      "  0.23525742  0.06707258  0.9062958   0.23853652  0.23845064  0.29206587\n",
      "  0.80544472  0.05196769  0.8392696   0.32945862  0.5096028   0.41266549\n",
      "  0.89967613  0.28586684  0.76065427  0.67412264  0.86061322  0.4946744\n",
      "  0.42874002  0.95874062  0.12942276  0.43195984  0.80982997  0.92615734\n",
      "  0.10874327  0.23151532  0.741629    0.02828925  0.97875394  0.35011554\n",
      "  0.108654    0.61225179  0.48559051  0.68088799  0.38886737  0.91159658\n",
      "  0.16092923  0.08938643  0.16144932  0.43482917  0.37320622  0.02451726\n",
      "  0.50312208  0.61624423  0.42707323  0.78763163  0.56160555  0.42147612\n",
      "  0.26917167  0.14889945  0.0818865   0.70128298  0.10693839  0.31288232\n",
      "  0.35911174  0.46151601  0.97280639  0.70369334  0.68988506  0.46615738\n",
      "  0.95940666  0.48790746  0.11283302  0.29511385  0.53569924  0.80478539\n",
      "  0.4350631   0.83077846  0.78026328  0.92301482  0.56091044  0.53546768\n",
      "  0.14060141  0.78705023  0.98079493  0.90309291  0.02682712  0.79578288\n",
      "  0.48380381  0.32564137  0.89199567  0.7135118   0.05689144  0.40970305\n",
      "  0.53452277  0.09872286  0.8206769   0.40443067  0.79966488  0.95272832\n",
      "  0.17574443  0.07626413  0.59576986  0.6421396   0.94924781  0.67069758\n",
      "  0.0076239   0.80988502  0.28683843  0.64055228  0.73332601  0.02260483\n",
      "  0.32776431  0.51995692  0.27475204  0.32492911  0.26558373  0.2730125\n",
      "  0.15235998  0.39892206  0.09256422  0.05536811  0.75260096  0.01514384\n",
      "  0.13416326  0.53367171  0.42486488  0.02718931  0.75542366  0.72812726\n",
      "  0.14322574  0.29652973  0.41643801  0.61305693  0.56713823  0.99309521\n",
      "  0.79045607  0.45241071  0.00459129  0.45069536  0.36803506  0.72555147\n",
      "  0.82914417  0.6757288   0.15714874  0.37310577  0.95081822  0.85439768\n",
      "  0.61977057  0.73211569  0.27917279  0.5203189   0.58193484  0.94910758\n",
      "  0.90127845  0.93407007  0.10821914  0.74456148  0.14856046  0.72216839\n",
      "  0.82186525  0.58841035  0.28377969  0.56706589  0.68247796  0.13702555\n",
      "  0.22603447  0.26772854  0.29569576  0.65112422  0.3033589   0.00678137\n",
      "  0.00637365  0.6039628   0.92965942  0.06662285  0.49023853  0.89041769\n",
      "  0.93772694  0.11838566  0.89086538  0.01721304  0.61762673  0.18308578\n",
      "  0.22149962  0.37484828  0.21201783  0.71936737  0.02695253  0.74959912\n",
      "  0.01420945  0.84051939  0.36028177  0.09489155  0.09311863  0.79851075\n",
      "  0.1152878   0.54155785  0.92862666  0.80024505  0.131504    0.05497266\n",
      "  0.16112046  0.24419924  0.44687773  0.51130036  0.4750328   0.98361756\n",
      "  0.11416815  0.30802019  0.64108577  0.39432698  0.9753927   0.90916863\n",
      "  0.8846787   0.17445772  0.98954032  0.79952473  0.14582431  0.54581174\n",
      "  0.05504682  0.32345525  0.09949388  0.36652146  0.0546576   0.7825362\n",
      "  0.41433711  0.44873491  0.17508546  0.63028061  0.36608839  0.40375228\n",
      "  0.69642197  0.53063502  0.73311913  0.16374299  0.67651947  0.96577228\n",
      "  0.49479569  0.48087491  0.8440744   0.0637449   0.60555018  0.42401763\n",
      "  0.3492435   0.59645446  0.75628233  0.90049414  0.74858839  0.42416786\n",
      "  0.07128847  0.17695902  0.05731619  0.29758085  0.88267171  0.85393857\n",
      "  0.58508378  0.32056395  0.16695739  0.2762261   0.88140232  0.5020243\n",
      "  0.09147141  0.10165851  0.69629458  0.28497601  0.90718209  0.59221516\n",
      "  0.71063156  0.58029729  0.44485846  0.69047595  0.39254554  0.72502533\n",
      "  0.22494404  0.80020182  0.55282429  0.88626751  0.4867231   0.00495031\n",
      "  0.15687546  0.03644761  0.61084183  0.72626176  0.59617582  0.08318885\n",
      "  0.24838809  0.22093568  0.12102947  0.02509917  0.60627071  0.13178817\n",
      "  0.01397227  0.50929847  0.78848713  0.20453385  0.18825391  0.22929555\n",
      "  0.74726839  0.7632321   0.77942756  0.08103875  0.79310066  0.12303381\n",
      "  0.70353701  0.47800526  0.12521178  0.853143    0.82744347  0.15172771\n",
      "  0.81165312  0.17534411  0.28642068  0.16061704  0.46141103  0.44515355\n",
      "  0.91655224  0.29676675  0.16366057  0.91735878  0.89208971  0.38568816\n",
      "  0.85200909  0.62724221  0.84016831  0.09946925  0.91121314  0.42747312\n",
      "  0.48616878  0.98331     0.86725199  0.82712222  0.16898419  0.76906535\n",
      "  0.91666273  0.67092694  0.26052182  0.14854356  0.5815591   0.10235508\n",
      "  0.13344347  0.27246049  0.26015797  0.80682489  0.17066422  0.39212196\n",
      "  0.23209377  0.7340608   0.63479097  0.15335771  0.3916473   0.04784901\n",
      "  0.92882416  0.15159108  0.29238931  0.20524402  0.97188871  0.39410483\n",
      "  0.03798742  0.9399661   0.08763503  0.62938755  0.65905697  0.43412851\n",
      "  0.37640773  0.38916426  0.16346883  0.23074769  0.2334877   0.80632869\n",
      "  0.03532408  0.24846008  0.14808328  0.23491987  0.51514937  0.82159348\n",
      "  0.37673081  0.70831302  0.24269996  0.69221939  0.55275738  0.71714734\n",
      "  0.76855535  0.08313141  0.95913474  0.63560258  0.28573012  0.53519195\n",
      "  0.59560044  0.40807361  0.96025888  0.9302058   0.39147797  0.63444594\n",
      "  0.25510135  0.9916788   0.52392414  0.61156258  0.35034632  0.7067418\n",
      "  0.46601845  0.14811843  0.73838909  0.7521101   0.75990358  0.52705769\n",
      "  0.09782979  0.45558222  0.54798291  0.19065981  0.57877578  0.77362966\n",
      "  0.10901081  0.4363475   0.00965417  0.02995449  0.06364314  0.80176232\n",
      "  0.88188384  0.42388131  0.86329779  0.17314654  0.62569236  0.12145427\n",
      "  0.12955551  0.62215493  0.43433269  0.75281649  0.95179254  0.83385789\n",
      "  0.16959927  0.95744527  0.45541     0.94277397  0.01336377  0.30539964\n",
      "  0.39311473  0.51154913  0.64328735  0.47914182  0.08739969  0.97772794\n",
      "  0.32985964  0.12490121  0.18476134  0.42251036  0.50621935  0.86270597\n",
      "  0.21245461  0.24328168  0.60321912  0.35811384  0.37704218  0.00247983\n",
      "  0.05051076  0.7538227   0.20883304  0.67429263  0.98669809  0.97906958\n",
      "  0.49157495  0.19761415  0.82224473  0.28791463  0.14939627  0.12802168\n",
      "  0.69204322  0.29993943  0.49128454  0.79508596  0.06517131  0.25865802\n",
      "  0.75513802  0.93357108  0.58359417  0.08644476  0.62064823  0.91255058\n",
      "  0.29555978  0.56250163  0.33245476  0.37994245  0.5099037   0.29569242\n",
      "  0.92986335  0.66625812  0.02077665  0.17395742  0.22972209  0.89230613\n",
      "  0.77400706  0.59844861  0.84902183  0.83615472  0.85687531  0.00101761\n",
      "  0.52638568  0.535908    0.77526278  0.47867261  0.34747364  0.5379791\n",
      "  0.16766497  0.67788798  0.74056449  0.01924693  0.14956495  0.70305883\n",
      "  0.88136967  0.73878266  0.9554292   0.96566175  0.35430405  0.45625627\n",
      "  0.43343248  0.81442406  0.05568862  0.39148819  0.49584439  0.13059445\n",
      "  0.4142253   0.66267086  0.95746733  0.36346779  0.68993057  0.08688514\n",
      "  0.54359716  0.55426755  0.30515148  0.89891294  0.24595277  0.31406154\n",
      "  0.64641996  0.44369206  0.7642596   0.40479479  0.31184671  0.25878135\n",
      "  0.55179747  0.51596328  0.31933991  0.63958525  0.728273    0.82590575\n",
      "  0.19830339  0.83691094  0.45510455  0.81424829  0.64813119  0.10575246\n",
      "  0.4430159   0.24481521  0.05914372  0.29311625  0.2250786   0.03409073\n",
      "  0.52701636  0.15696138  0.64552941  0.18594156  0.94519262  0.65914667\n",
      "  0.87502159  0.65502831  0.37896159  0.17449996  0.01410096  0.6127425\n",
      "  0.86634427  0.71945862  0.96042969  0.12324495  0.50084257  0.9304832\n",
      "  0.50367133  0.23116301  0.02894025  0.41681933  0.68307182  0.15762348\n",
      "  0.23048483  0.42154566  0.65585379  0.40522229  0.21530038  0.86090494\n",
      "  0.77039911  0.04600834  0.85449165  0.86794696  0.55620722  0.20258638\n",
      "  0.58741827  0.44381352  0.07865534  0.33852618  0.30287612  0.95877182\n",
      "  0.56015967  0.35424627  0.48101388  0.29316688  0.2824053   0.93670491\n",
      "  0.31279177  0.80115202  0.65757241  0.1130982   0.987916    0.25625611\n",
      "  0.20941839  0.1619112   0.93012796  0.93100856  0.07321898  0.68380071\n",
      "  0.36082719  0.51105095  0.69595939  0.11142594  0.88258565  0.2025693\n",
      "  0.15433728  0.84839283  0.10657584  0.07602363  0.42740433  0.8772759\n",
      "  0.97638782  0.67334978  0.30479227  0.42751158  0.13896291  0.7206245\n",
      "  0.43678162  0.92720431  0.29395174  0.05139971  0.30935784  0.88949537\n",
      "  0.30852969  0.14090551  0.30408938  0.03544612  0.40188172  0.71940977\n",
      "  0.82458363  0.26792904  0.58485006  0.3064756   0.71364067  0.60800353\n",
      "  0.11368932  0.18934397  0.48722632  0.53314842  0.58546456  0.37230644\n",
      "  0.98677159  0.92674755  0.33620784  0.20738909  0.9587947   0.98566408\n",
      "  0.24272761  0.62128073  0.74055629  0.24703925  0.78033037  0.40861231\n",
      "  0.93499327  0.48044053  0.40104425  0.45879207  0.79878444  0.86308181\n",
      "  0.48460231  0.04765788  0.53107652  0.37146052  0.84825975  0.87577412\n",
      "  0.91138148  0.94964259  0.84874674  0.61859822  0.96186477  0.50656145\n",
      "  0.7434551   0.58057512  0.13164524  0.69092086  0.14539392  0.07642278\n",
      "  0.6540151   0.00622393  0.27631506  0.97987554  0.59216107  0.28205892\n",
      "  0.33806243  0.21244226  0.58427647  0.47955815  0.7530623   0.58253857\n",
      "  0.94438665  0.24411174  0.5578515   0.25006814  0.92422958  0.022584\n",
      "  0.11936712  0.05161527  0.62695544  0.69607473  0.44371099  0.13886109\n",
      "  0.04472213  0.82912636  0.75476469  0.38135095  0.99868906  0.79690631\n",
      "  0.40759499  0.57600798  0.15191076  0.64190056  0.67530555  0.72233217\n",
      "  0.39239989  0.9058174   0.52569917  0.37974784]\n"
     ]
    }
   ],
   "source": [
    "print(perturb.x)"
   ]
  },
  {
   "cell_type": "markdown",
   "metadata": {},
   "source": [
    "# ======================================================="
   ]
  },
  {
   "cell_type": "markdown",
   "metadata": {},
   "source": [
    "## Classifier inversion"
   ]
  },
  {
   "cell_type": "code",
   "execution_count": 53,
   "metadata": {},
   "outputs": [
    {
     "name": "stdout",
     "output_type": "stream",
     "text": [
      "Extracting MNIST_data/train-images-idx3-ubyte.gz\n",
      "Extracting MNIST_data/train-labels-idx1-ubyte.gz\n",
      "Extracting MNIST_data/t10k-images-idx3-ubyte.gz\n",
      "Extracting MNIST_data/t10k-labels-idx1-ubyte.gz\n"
     ]
    }
   ],
   "source": [
    "# import data\n",
    "from tensorflow.examples.tutorials.mnist import input_data\n",
    "mnist = input_data.read_data_sets(\"MNIST_data/\", one_hot=True)\n",
    "\n",
    "# import packages\n",
    "import numpy as np\n",
    "import matplotlib.pyplot as plt\n",
    "import tensorflow as tf\n",
    "from numpy import linalg as LA\n",
    "from scipy.optimize import minimize"
   ]
  },
  {
   "cell_type": "code",
   "execution_count": 36,
   "metadata": {
    "collapsed": true
   },
   "outputs": [],
   "source": [
    "# Defining loss function\n",
    "def loss(l_1, l_2):\n",
    "    #return np.log(1 + np.exp(-abs(l_1-l_2)))/np.log(2)\n",
    "    return (-1) * np.log(1 + np.exp(-abs(l_1-l_2)))/np.log(2) \n",
    "# Defining the objective function \n",
    "'''\n",
    "### have problems\n",
    "'''\n",
    "def objective(r, c, x, l_1):\n",
    "    return (-1)*LA.norm(r, ord=None) + c*loss(l_1, l_2)"
   ]
  },
  {
   "cell_type": "code",
   "execution_count": 37,
   "metadata": {},
   "outputs": [
    {
     "data": {
      "image/png": "[encoded data removed]",
      "text/plain": [
       "<matplotlib.figure.Figure at 0x1207e7780>"
      ]
     },
     "metadata": {},
     "output_type": "display_data"
    }
   ],
   "source": [
    "x = np.linspace(-10, 10, 100)\n",
    "y = 0\n",
    "\n",
    "plt.plot(x, loss(x, y))\n",
    "plt.show()"
   ]
  },
  {
   "cell_type": "code",
   "execution_count": 3,
   "metadata": {},
   "outputs": [
    {
     "name": "stdout",
     "output_type": "stream",
     "text": [
      "step 100, has used 2000 samples, training accuracy 0.65\n",
      "step 200, has used 4000 samples, training accuracy 1\n",
      "step 300, has used 6000 samples, training accuracy 0.9\n",
      "step 400, has used 8000 samples, training accuracy 0.95\n",
      "step 500, has used 10000 samples, training accuracy 1\n",
      "test accuracy 0.9261\n",
      "Singular matrix C in LSQ subproblem    (Exit mode 6)\n",
      "            Current function value: -516.3556382139058\n",
      "            Iterations: 1\n",
      "            Function evaluations: 786\n",
      "            Gradient evaluations: 1\n",
      "The Frobenius norm of the perturbation is 16.355638\n"
     ]
    },
    {
     "data": {
      "image/png": "[encoded data removed]",
      "text/plain": [
       "<matplotlib.figure.Figure at 0x11bdc1908>"
      ]
     },
     "metadata": {},
     "output_type": "display_data"
    }
   ],
   "source": [
    "# train the DNN\n",
    "from scipy.optimize import minimize\n",
    "\n",
    "x = tf.placeholder(tf.float32, [None, 784])\n",
    "y_ = tf.placeholder(tf.float32, shape=[None, 10])\n",
    "initial_image_index = np.random.randint(0, 5000-1)\n",
    "scalarization_parameter = 500\n",
    "\n",
    "# Multilayer Convolutional Networks\n",
    "def weight_variable(shape):\n",
    "    initial = tf.truncated_normal(shape, stddev=0.1)\n",
    "    return tf.Variable(initial)\n",
    "\n",
    "def bias_variable(shape):\n",
    "    initial = tf.constant(0.1, shape=shape)\n",
    "    return tf.Variable(initial)\n",
    "\n",
    "def conv2d(x, W):\n",
    "    return tf.nn.conv2d(x, W, strides=[1, 1, 1, 1], padding='SAME')\n",
    "\n",
    "def max_pool_2x2(x):\n",
    "    return tf.nn.max_pool(x, ksize=[1, 2, 2, 1],\n",
    "                        strides=[1, 2, 2, 1], padding='SAME')\n",
    "\n",
    "\n",
    "# First layer\n",
    "W_conv1 = weight_variable([5, 5, 1, 32])\n",
    "b_conv1 = bias_variable([32])\n",
    "x_image = tf.reshape(x, [-1, 28, 28, 1])\n",
    "h_conv1 = tf.nn.relu(conv2d(x_image, W_conv1) + b_conv1)\n",
    "h_pool1 = max_pool_2x2(h_conv1)\n",
    "\n",
    "# Second layer\n",
    "W_conv2 = weight_variable([5, 5, 32, 64])\n",
    "b_conv2 = bias_variable([64])\n",
    "h_conv2 = tf.nn.relu(conv2d(h_pool1, W_conv2) + b_conv2)\n",
    "h_pool2 = max_pool_2x2(h_conv2)\n",
    "\n",
    "# Densely connected layer\n",
    "W_fc1 = weight_variable([7 * 7 * 64, 1024])\n",
    "b_fc1 = bias_variable([1024])\n",
    "h_pool2_flat = tf.reshape(h_pool2, [-1, 7*7*64])\n",
    "h_fc1 = tf.nn.relu(tf.matmul(h_pool2_flat, W_fc1) + b_fc1)\n",
    "\n",
    "# Dropout to avoid overfitting\n",
    "keep_prob = tf.placeholder(tf.float32)\n",
    "h_fc1_drop = tf.nn.dropout(h_fc1, keep_prob)\n",
    "\n",
    "# Readout layer\n",
    "W_fc2 = weight_variable([1024, 10])\n",
    "b_fc2 = bias_variable([10])\n",
    "y_conv = tf.matmul(h_fc1_drop, W_fc2) + b_fc2\n",
    "\n",
    "# Train and evalute the models\n",
    "# Input: y_conv, y_\n",
    "cross_entropy = tf.reduce_mean(tf.nn.softmax_cross_entropy_with_logits(labels=y_, logits=y_conv))\n",
    "train_step = tf.train.AdamOptimizer(1e-4).minimize(cross_entropy)\n",
    "prediction = tf.argmax(y_conv,1)\n",
    "correct_prediction = tf.equal(tf.argmax(y_conv, 1), tf.argmax(y_, 1))\n",
    "accuracy = tf.reduce_mean(tf.cast(correct_prediction, tf.float32))\n",
    "\n",
    "''' Defining loss function '''\n",
    "def loss(l_1, l_2):\n",
    "    #return np.log(1 + np.exp(-abs(l_1-l_2)))/np.log(2)\n",
    "    return (-1) * ( np.log(1 + np.exp(-abs(l_1-l_2)))/np.log(2) )\n",
    "\n",
    "\n",
    "# Start the interactive session\n",
    "with tf.Session() as sess:\n",
    "    ''' Training the classifier '''\n",
    "    batch_size = 20\n",
    "    training_times = 500\n",
    "    sess.run(tf.global_variables_initializer())\n",
    "    for i in range(training_times):\n",
    "        batch = mnist.train.next_batch(batch_size)\n",
    "        if (i+1) % 100 == 0:\n",
    "            train_accuracy = accuracy.eval(feed_dict={x: batch[0], y_: batch[1], keep_prob: 1.0})\n",
    "            print('step %d, has used %d samples, training accuracy %g' % ((i+1), batch_size*(i+1), train_accuracy))\n",
    "        train_step.run(feed_dict={x: batch[0], y_: batch[1], keep_prob: 0.5})\n",
    "\n",
    "    print('test accuracy %g' % accuracy.eval(feed_dict={x: mnist.test.images, y_: mnist.test.labels, keep_prob: 1.0}))\n",
    "    \n",
    "    f, ax = plt.subplots(1, 3, figsize=(15, 5))\n",
    "    \n",
    "    ''' Plot initial image '''\n",
    "    initial_image = mnist.test.images[initial_image_index]\n",
    "    initial_label_arr = mnist.test.labels[initial_image_index]\n",
    "    initial_label = np.where(initial_label_arr==1)[0][0]\n",
    "    image = np.reshape(initial_image, (28, 28))\n",
    "    ax[0].imshow(image, cmap='gray')\n",
    "    ax[0].set_title('Initial Image with label %s'%initial_label)\n",
    "    \n",
    "    ''' Define functions for optimization '''\n",
    "    def objective(r):\n",
    "        return (-1)*np.linalg.norm(r, ord=None) + scalarization_parameter * \\\n",
    "                loss(initial_label, prediction.eval(feed_dict={x: np.reshape(np.add(initial_image, r), (1, 784)), keep_prob: 1.0})[0])\n",
    "        \n",
    "    def constrain(r):\n",
    "        add_image = np.add(initial_image, r)\n",
    "        const = (add_image >= 0) & (add_image <= 1)\n",
    "        return np.sum( const[0] ) - 28*28\n",
    "    \n",
    "    cons = {'type':'eq', 'fun': constrain}\n",
    "    \n",
    "    ''' Running BFGS-L algorithm '''\n",
    "    # Methods L-BFGS-B and BFGS are not supported with constraints\n",
    "    # Method COBYLA is not supported with constrains in 'eq' type \n",
    "    initial_noise = np.random.rand(1, 784)\n",
    "    perturb = minimize(objective, initial_noise, method='SLSQP', options={'maxiter': 50, 'disp': True}, constraints = cons)\n",
    "    \n",
    "    perturbation = np.reshape(perturb.x, (28, 28))\n",
    "    ax[1].imshow(perturbation, cmap='gray')\n",
    "    ax[1].set_title('Perturbation')\n",
    "    \n",
    "    new_image = np.add(initial_image, perturb.x)\n",
    "    new_label = prediction.eval(feed_dict={x: np.reshape(new_image, (1, 784)), keep_prob: 1.0})[0]\n",
    "    ax[2].imshow(np.reshape(new_image, (28, 28)), cmap='gray')\n",
    "    ax[2].set_title('Perturbed Image with predicted label %s'%new_label)\n",
    "    \n",
    "    print('The Frobenius norm of the perturbation is %f' %np.linalg.norm(perturb.x, ord=None))"
   ]
  },
  {
   "cell_type": "code",
   "execution_count": null,
   "metadata": {
    "collapsed": true
   },
   "outputs": [],
   "source": []
  }
 ],
 "metadata": {
  "anaconda-cloud": {},
  "kernelspec": {
   "display_name": "Python 3",
   "language": "python",
   "name": "python3"
  },
  "language_info": {
   "codemirror_mode": {
    "name": "ipython",
    "version": 3
   },
   "file_extension": ".py",
   "mimetype": "text/x-python",
   "name": "python",
   "nbconvert_exporter": "python",
   "pygments_lexer": "ipython3",
   "version": "3.6.1"
  }
 },
 "nbformat": 4,
 "nbformat_minor": 1
}
