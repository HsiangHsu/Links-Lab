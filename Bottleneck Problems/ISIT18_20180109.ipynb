{
 "cells": [
  {
   "cell_type": "markdown",
   "metadata": {},
   "source": [
    "### Learning, Information and Knowledge Systems Lab, SEAS, Harvard University\n",
    "### Hsiang Hsu\n",
    "#### hsianghsu@g.harvard.edu\n",
    "\n",
    "# Bottleneck Problem\n",
    "\n",
    "**Fall 2017**<br/>\n",
    "**Instructors**: Professor Flavio Calmon\n",
    "\n",
    "---"
   ]
  },
  {
   "cell_type": "code",
   "execution_count": 2,
   "metadata": {
    "collapsed": true
   },
   "outputs": [],
   "source": [
    "%matplotlib inline\n",
    "import numpy as np\n",
    "import scipy as sp\n",
    "import math\n",
    "import matplotlib\n",
    "import matplotlib.pyplot as plt\n",
    "from cvxpy import *\n",
    "from tqdm import tqdm\n",
    "\n",
    "from scipy.spatial import ConvexHull\n",
    "from scipy.optimize import fsolve, linprog\n",
    "from numpy.linalg import norm, inv, matrix_power\n",
    "from scipy.integrate import simps\n",
    "from scipy.linalg import sqrtm, svd"
   ]
  },
  {
   "cell_type": "markdown",
   "metadata": {},
   "source": [
    "## Estimation Bottleneck - Sampling"
   ]
  },
  {
   "cell_type": "code",
   "execution_count": 102,
   "metadata": {},
   "outputs": [],
   "source": [
    "''' Helper Functions '''\n",
    "def stochastic_matrix(n, m):\n",
    "    matrix = np.random.rand(n,m)\n",
    "    return matrix/np.sum(matrix)\n",
    "\n",
    "def random_channel(n, m):\n",
    "    matrix = np.random.rand(n,m)\n",
    "    return matrix/np.sum(matrix, 0)\n",
    "\n",
    "def PIC(P_XY, P_X, P_Y):\n",
    "    D_X_sqrtinv, D_Y_sqrtinv = np.diag(P_X**(-.5)), np.diag(P_Y**(-.5))\n",
    "    Q = np.matmul(np.matmul(D_X_sqrtinv, P_XY), D_Y_sqrtinv)\n",
    "    U, S, V = svd(Q)\n",
    "    f, g = np.matmul(D_X_sqrtinv, U), np.matmul(D_Y_sqrtinv, V.transpose())\n",
    "    pic = np.sqrt(S)\n",
    "    return pic, f, g\n",
    "\n",
    "def truncate_pic(pic, n_f):\n",
    "    return np.diag(pic[0:n_f])\n",
    "\n",
    "def sampling_A(nsamples, n_f, F):\n",
    "    # initialize matrix A\n",
    "    A = np.zeros((n_f,nsamples))\n",
    "\n",
    "    for i in tqdm(range(nsamples)):\n",
    "        # produce samples    \n",
    "        a = 5*(2*np.random.rand(n_f,1)-1)\n",
    "\n",
    "        # check if feasible resample\n",
    "        while (F.dot(a)).min()< -1:\n",
    "            a = 5*(2*np.random.rand(n_f,1)-1)\n",
    "\n",
    "        A[:,i] = a[:,0]\n",
    "    return A\n",
    "\n",
    "def solve_maximization(nsamples, A, pic, beta, n_f):\n",
    "    # produce constraints\n",
    "    w = Variable(nsamples,1)\n",
    "    constraints = []\n",
    "    constraints.append(w>=0)\n",
    "    constraints.append(sum(w)==1.0)\n",
    "    constraints.append(A*w==0.0)\n",
    "    \n",
    "    # Cost Function\n",
    "    pic_matrix = np.diag(pic[0:n_f])\n",
    "    c = np.diag(np.dot(np.dot(A.transpose(), pic_matrix**2 - beta*np.identity(len(pic_matrix))), A))\n",
    "    \n",
    "    # construct cvxpy optimization probem\n",
    "    obj = Maximize(c.transpose()*w)\n",
    "    prob = Problem(obj, constraints)\n",
    "    \n",
    "    # Solve the problem with cvxpy\n",
    "    prob.solve()\n",
    "\n",
    "    # optimal value\n",
    "    optval = prob.value\n",
    "\n",
    "    # produce optimal points\n",
    "    wv = w.value\n",
    "\n",
    "    # keep only values with significant contributions\n",
    "    significant_index = np.ravel(wv >1e-8)\n",
    "\n",
    "    Asig = A[:,significant_index]\n",
    "    P_W = np.ravel(wv[significant_index])\n",
    "\n",
    "    # normalize to avoid numerical issues\n",
    "    P_W = P_W/sum(P_W)\n",
    "\n",
    "    # P_{X|W} (g is for given)\n",
    "    P_XgW = np.diag(P_X).dot(1+F.dot(Asig))\n",
    "\n",
    "    # Produce joint distribution\n",
    "    P_XW = P_XgW.dot(np.diag(P_W))\n",
    "\n",
    "    # produce mapping from X to W\n",
    "    P_WgX = np.diag(P_X**(-1)).dot(P_XW)\n",
    "    \n",
    "    return optval, P_WgX, P_XW, P_XgW, P_W\n",
    "\n",
    "def solve_max_general(nsamples, F, A, beta, n_f, f, g):\n",
    "    # produce constraints\n",
    "    w = Variable(nsamples,1)\n",
    "    constraints = []\n",
    "    constraints.append(w>=0)\n",
    "    constraints.append(sum(w)==1.0)\n",
    "    constraints.append(A*w==0.0)\n",
    "    \n",
    "    # Cost Function\n",
    "#     pic_matrix = np.diag(pic[0:n_f])\n",
    "#     c = np.diag(np.dot(np.dot(A.transpose(), pic_matrix**2 - beta*np.identity(len(pic_matrix))), A))\n",
    "    c = np.zeros((nsamples, 1))\n",
    "    for i in range(nsamples):\n",
    "        q = np.multiply(P_X, F.dot(A)[:, i]+1).reshape((len(P_X), 1))\n",
    "        c[i] = phi(beta, f, g, P_X.reshape((len(P_X), 1)), P_Y.reshape((len(P_Y), 1)), q)\n",
    "    \n",
    "    # Adding Corner Points\n",
    "    corner_p = np.diag(np.ones(len(P_X)))\n",
    "    for i in range(len(P_X)):\n",
    "        c[nsamples-len(P_X)+i] = phi(beta, f, g, P_X.reshape((len(P_X), 1)), P_Y.reshape((len(P_Y), 1)), corner_p[:, i].reshape((len(P_X), 1)))\n",
    "    \n",
    "    # construct cvxpy optimization probem\n",
    "    obj = Maximize(c.transpose()*w)\n",
    "    prob = Problem(obj, constraints)\n",
    "    \n",
    "    # Solve the problem with cvxpy\n",
    "    prob.solve()\n",
    "\n",
    "    # optimal value\n",
    "    optval = prob.value\n",
    "\n",
    "    # produce optimal points\n",
    "    wv = w.value\n",
    "\n",
    "    # keep only values with significant contributions\n",
    "    significant_index = np.ravel(wv >1e-8)\n",
    "\n",
    "    Asig = A[:,significant_index]\n",
    "    P_W = np.ravel(wv[significant_index])\n",
    "\n",
    "    # normalize to avoid numerical issues\n",
    "    P_W = P_W/sum(P_W)\n",
    "\n",
    "    # P_{X|W} (g is for given)\n",
    "    P_XgW = np.diag(P_X).dot(1+F.dot(Asig))\n",
    "\n",
    "    # Produce joint distribution\n",
    "    P_XW = P_XgW.dot(np.diag(P_W))\n",
    "\n",
    "    # produce mapping from X to W\n",
    "    P_WgX = np.diag(P_X**(-1)).dot(P_XW)\n",
    "    \n",
    "    return optval, P_WgX, P_XW, P_XgW, P_W\n",
    "\n",
    "def solve_minimization(nsamples, A, pic, beta, n_f):\n",
    "    # produce constraints\n",
    "    w = Variable(nsamples,1)\n",
    "    constraints = []\n",
    "    constraints.append(w>=0)\n",
    "    constraints.append(sum(w)==1.0)\n",
    "    constraints.append(A*w==0.0)\n",
    "    \n",
    "    # Cost Function\n",
    "    pic_matrix = np.diag(pic[-n_f:])\n",
    "    c = np.diag(np.dot(np.dot(A.transpose(), pic_matrix**2 - beta*np.identity(len(pic_matrix))), A))\n",
    "    \n",
    "    # construct cvxpy optimization probem\n",
    "    obj = Minimize(c.transpose()*w)\n",
    "    prob = Problem(obj, constraints)\n",
    "    \n",
    "    # Solve the problem with cvxpy\n",
    "    prob.solve()\n",
    "\n",
    "    # optimal value\n",
    "    optval = prob.value\n",
    "\n",
    "    # produce optimal points\n",
    "    wv = w.value\n",
    "\n",
    "    # keep only values with significant contributions\n",
    "    significant_index = np.ravel(wv >1e-8)\n",
    "\n",
    "    Asig = A[:,significant_index]\n",
    "    P_W = np.ravel(wv[significant_index])\n",
    "\n",
    "    # normalize to avoid numerical issues\n",
    "    P_W = P_W/sum(P_W)\n",
    "\n",
    "    # P_{X|W} (g is for given)\n",
    "    P_XgW = np.diag(P_X).dot(1+F.dot(Asig))\n",
    "\n",
    "    # Produce joint distribution\n",
    "    P_XW = P_XgW.dot(np.diag(P_W))\n",
    "\n",
    "    # produce mapping from X to W\n",
    "    P_WgX = np.diag(P_X**(-1)).dot(P_XW)\n",
    "    \n",
    "    return optval, P_WgX, P_XW, P_XgW, P_W\n",
    "\n",
    "def solve_min_general(nsamples, F, A, beta, n_f, f, g):\n",
    "    # produce constraints\n",
    "    w = Variable(nsamples,1)\n",
    "    constraints = []\n",
    "    constraints.append(w>=0)\n",
    "    constraints.append(sum(w)==1.0)\n",
    "    constraints.append(A*w==0.0)\n",
    "    \n",
    "    # Cost Function\n",
    "#     pic_matrix = np.diag(pic[-n_f:])\n",
    "#     c = np.diag(np.dot(np.dot(A.transpose(), pic_matrix**2 - beta*np.identity(len(pic_matrix))), A))\n",
    "    c = np.zeros((nsamples, 1))\n",
    "    for i in range(nsamples):\n",
    "        q = np.multiply(P_X, F.dot(A)[:, i]+1).reshape((len(P_X), 1))\n",
    "        c[i] = phi(beta, f, g, P_X.reshape((len(P_X), 1)), P_Y.reshape((len(P_Y), 1)), q)\n",
    "        \n",
    "    # Adding Corner Points\n",
    "    corner_p = np.diag(np.ones(len(P_X)))\n",
    "    for i in range(len(P_X)):\n",
    "        c[nsamples-len(P_X)+i] = phi(beta, f, g, P_X.reshape((len(P_X), 1)), P_Y.reshape((len(P_Y), 1)), corner_p[:, i].reshape((len(P_X), 1)))\n",
    "    \n",
    "    # construct cvxpy optimization probem\n",
    "    obj = Minimize(c.transpose()*w)\n",
    "    prob = Problem(obj, constraints)\n",
    "    \n",
    "    # Solve the problem with cvxpy\n",
    "    prob.solve()\n",
    "\n",
    "    # optimal value\n",
    "    optval = prob.value\n",
    "\n",
    "    # produce optimal points\n",
    "    wv = w.value\n",
    "\n",
    "    # keep only values with significant contributions\n",
    "    significant_index = np.ravel(wv >1e-8)\n",
    "\n",
    "    Asig = A[:,significant_index]\n",
    "    P_W = np.ravel(wv[significant_index])\n",
    "\n",
    "    # normalize to avoid numerical issues\n",
    "    P_W = P_W/sum(P_W)\n",
    "\n",
    "    # P_{X|W} (g is for given)\n",
    "    P_XgW = np.diag(P_X).dot(1+F.dot(Asig))\n",
    "\n",
    "    # Produce joint distribution\n",
    "    P_XW = P_XgW.dot(np.diag(P_W))\n",
    "\n",
    "    # produce mapping from X to W\n",
    "    P_WgX = np.diag(P_X**(-1)).dot(P_XW)\n",
    "    \n",
    "    return optval, P_WgX, P_XW, P_XgW, P_W\n",
    "\n",
    "def Df_matrix(f, P, Q):\n",
    "    result = 0\n",
    "    for i in range(min(P.shape[0], Q.shape[0])):\n",
    "        for j in range(min(P.shape[1], Q.shape[1])):\n",
    "            if P[i, j] == 0:\n",
    "                result = result\n",
    "            elif Q[i, j] == 0:\n",
    "                result = result\n",
    "            else:    \n",
    "                result = result + Q[i, j]*f(P[i, j]/Q[i, j])\n",
    "    return result\n",
    "\n",
    "def calculate_D(P_X, optval, P_W, P_XW, f, beta):\n",
    "    P_X_P_W = np.dot(P_X.reshape((len(P_X), 1)), P_W.reshape((1, len(P_W))))\n",
    "    D_XW = Df_matrix(f, P_XW, P_X_P_W)\n",
    "    D_YW = optval + beta*D_XW\n",
    "    return D_XW, D_YW\n",
    "\n",
    "def phi(beta, f, g, P_X, P_Y, p):\n",
    "    return Df_matrix(g, p, P_X) - beta*Df_matrix(f, p, P_Y)\n",
    "\n",
    "def kronecker_BSC(T, ncascades):\n",
    "    for i in range(ncascades):\n",
    "        T = np.kron(T, T)\n",
    "    return T\n",
    "\n",
    "''' Common f-divergences '''\n",
    "# KL Divergence\n",
    "kl = lambda t: t*np.log2(t)\n",
    "# Chi-squared Divergence\n",
    "ci = lambda t: t**2 - 1\n",
    "# Total Variation\n",
    "tv = lambda t: 0.5*abs(t-1)\n",
    "# Squared Hellinger \n",
    "sh = lambda t: (1-np.sqrt(t))**2"
   ]
  },
  {
   "cell_type": "code",
   "execution_count": 103,
   "metadata": {},
   "outputs": [
    {
     "name": "stderr",
     "output_type": "stream",
     "text": [
      "100%|██████████| 1000/1000 [00:00<00:00, 10604.83it/s]\n"
     ]
    }
   ],
   "source": [
    "# Dimension Set-up\n",
    "# n_x, n_y = 10, 8\n",
    "# P_XY = stochastic_matrix(n_x,n_y)\n",
    "# P_X, P_Y = P_XY.sum(axis=1), P_XY.sum(axis=0)\n",
    "\n",
    "# BSC\n",
    "px, delta = 0.1, 0.1\n",
    "P_X = np.array([px, 1-px])\n",
    "T = np.array([[1-delta, delta], [delta, 1-delta]])\n",
    "P_Y = T.dot(P_X)\n",
    "P_XY = P_X.reshape((len(P_X), 1)).dot(P_Y.reshape((1, len(P_Y))))\n",
    "P_X = P_XY.sum(axis=1)\n",
    "P_Y = P_XY.sum(axis=0)\n",
    "\n",
    "# Kronecker BSC\n",
    "# ncascades = 3\n",
    "# n_x, n_y, delta = 2, 2, 0.1\n",
    "# P_X = stochastic_matrix(n_x, 1)\n",
    "# T = np.array([[1-delta, delta], [delta, 1-delta]])\n",
    "# P_Y = np.dot(T, P_X)\n",
    "# P_XY = P_X.reshape((len(P_X), 1)).dot(P_Y.reshape((1, len(P_Y))))\n",
    "# P_XY = kronecker_BSC(P_XY, ncascades)\n",
    "# P_X = P_XY.sum(axis=1)\n",
    "# P_Y = P_XY.sum(axis=0)\n",
    "\n",
    "# Construct the Channel\n",
    "# T = np.dot(P_Y.reshape((n_y, 1)), (P_X**(-1)).reshape((1, n_x)))\n",
    "\n",
    "# PIC decomposition\n",
    "pic, f, g = PIC(P_XY,P_X,P_Y)\n",
    "\n",
    "''' Generate samples '''\n",
    "# number of dimensions and points\n",
    "n_f = 1\n",
    "# Principle Functions\n",
    "F = f[:,1:n_f+1]\n",
    "\n",
    "# generate samples\n",
    "nsamples = 10**3\n",
    "A = sampling_A(nsamples, n_f, F)"
   ]
  },
  {
   "cell_type": "code",
   "execution_count": 107,
   "metadata": {},
   "outputs": [
    {
     "name": "stderr",
     "output_type": "stream",
     "text": [
      "100%|██████████| 101/101 [00:58<00:00,  1.71it/s]\n"
     ]
    }
   ],
   "source": [
    "''' Calculate Estimation Bottleneck '''\n",
    "# regularization strength\n",
    "nslopes = 101\n",
    "# betas = np.hstack((np.linspace(0, 1, nslopes), np.linspace(1, 2, nslopes)))\n",
    "betas = np.linspace(0, 1, nslopes)\n",
    "\n",
    "D_XW_max, D_YW_max = np.zeros((len(betas), 1)), np.zeros((len(betas), 1))\n",
    "D_XW_min, D_YW_min = np.zeros((len(betas), 1)), np.zeros((len(betas), 1))\n",
    "\n",
    "f1, f2 = kl, kl\n",
    "\n",
    "for i in tqdm(range(len(betas))):\n",
    "    beta = betas[i]\n",
    "    ''' Estimation Bottleneck '''\n",
    "#     optval, P_WgX, P_XW, P_XgW, P_W = solve_maximization(nsamples, A, pic, beta, n_f)\n",
    "#     D_XW_max[i], D_YW_max[i] = calculate_D(P_X, optval, P_W, P_XW, ci, beta)\n",
    "    \n",
    "#     optval, P_WgX, P_XW, P_XgW, P_W = solve_minimization(nsamples, A, pic, beta, n_f)\n",
    "#     D_XW_min[i], D_YW_min[i] = calculate_D(P_X, optval, P_W, P_XW, ci, beta)\n",
    "    ''' General Case '''\n",
    "    optval, P_WgX, P_XW, P_XgW, P_W = solve_max_general(nsamples, F, A, beta, n_f, f1, f2)\n",
    "    D_XW_max[i], D_YW_max[i] = calculate_D(P_X, optval, P_W, P_XW, f1, beta)\n",
    "    \n",
    "    optval, P_WgX, P_XW, P_XgW, P_W = solve_min_general(nsamples, F, A, beta, n_f, f1, f2)\n",
    "    D_XW_min[i], D_YW_min[i] = calculate_D(P_X, optval, P_W, P_XW, f1, beta)"
   ]
  },
  {
   "cell_type": "code",
   "execution_count": 108,
   "metadata": {},
   "outputs": [
    {
     "data": {
      "text/plain": [
       "<matplotlib.legend.Legend at 0x1814aad198>"
      ]
     },
     "execution_count": 108,
     "metadata": {},
     "output_type": "execute_result"
    },
    {
     "data": {
      "image/png": "[encoded data removed]",
      "text/plain": [
       "<matplotlib.figure.Figure at 0x18147482b0>"
      ]
     },
     "metadata": {},
     "output_type": "display_data"
    }
   ],
   "source": [
    "''' Visualization '''\n",
    "fontsize = 20\n",
    "linewidth = 2\n",
    "\n",
    "plt.figure(figsize=(8, 8))\n",
    "matplotlib.rcParams.update({'font.size': fontsize})\n",
    "plt.plot(D_XW_max, D_YW_max, 'ro-', linewidth=linewidth, label=r'Information Bottleneck', alpha=0.5)\n",
    "plt.plot(D_XW_min, D_YW_min, 'bx-', linewidth=linewidth, label=r'Privacy Funnel', alpha=0.5)\n",
    "# plt.xlabel(r'$\\chi^2(X; W)$', fontsize = fontsize)\n",
    "# plt.ylabel(r'$\\chi^2(Y; W)$', fontsize = fontsize)\n",
    "plt.xlabel(r'$I(X; W)$', fontsize = fontsize)\n",
    "plt.ylabel(r'$I(Y; W)$', fontsize = fontsize)\n",
    "plt.legend(loc='best', fontsize = fontsize)"
   ]
  },
  {
   "cell_type": "code",
   "execution_count": 110,
   "metadata": {},
   "outputs": [
    {
     "name": "stdout",
     "output_type": "stream",
     "text": [
      "[[ 0.0890085  0.0109915]\n",
      " [ 0.8010765  0.0989235]]\n",
      "[[  5.20572077e-05   9.99479430e-02]\n",
      " [  8.90032945e-01   9.96705438e-03]]\n",
      "[ 0.890085  0.109915]\n",
      "[ 0.1  0.9]\n",
      "0.0\n"
     ]
    }
   ],
   "source": [
    "\n",
    "P_X_P_W = np.dot(P_X.reshape((len(P_X), 1)), P_W.reshape((1, len(P_W))))\n",
    "# P_XgW[0,0], P_XgW[0,1], P_XgW[1,0], P_XgW[1,1] = 1, 0, 0, 1\n",
    "P_XW = P_XgW.dot(np.diag(P_W))\n",
    "print(P_X_P_W)\n",
    "print(P_XW)\n",
    "# print(P_XgW)\n",
    "print(P_W)\n",
    "print(P_X)\n",
    "print(Df_matrix(kl, P_XW, P_XW))\n",
    "# print(Df_matrix(kl, P_X, P_W))\n",
    "# print(P_WgX)\n",
    "# P_WX = P_WgX.dot(np.diag(P_X))\n",
    "# print(P_WX-P_XW)"
   ]
  },
  {
   "cell_type": "code",
   "execution_count": 117,
   "metadata": {},
   "outputs": [
    {
     "data": {
      "text/plain": [
       "True"
      ]
     },
     "execution_count": 117,
     "metadata": {},
     "output_type": "execute_result"
    }
   ],
   "source": [
    "D_X_sqrtinv = np.diag(P_X**(-.5))\n",
    "size = len(D_X_sqrtinv)\n",
    "J = np.ones((size, size))\n",
    "left = -J\n",
    "right = np.matmul(D_X_sqrtinv - np.identity(size), J)\n",
    "(A < -1).any()"
   ]
  },
  {
   "cell_type": "code",
   "execution_count": 114,
   "metadata": {},
   "outputs": [
    {
     "data": {
      "text/plain": [
       "array([[ 2.16227766,  2.16227766],\n",
       "       [ 0.05409255,  0.05409255]])"
      ]
     },
     "execution_count": 114,
     "metadata": {},
     "output_type": "execute_result"
    }
   ],
   "source": [
    "right"
   ]
  },
  {
   "cell_type": "code",
   "execution_count": 124,
   "metadata": {},
   "outputs": [
    {
     "data": {
      "text/plain": [
       "True"
      ]
     },
     "execution_count": 124,
     "metadata": {},
     "output_type": "execute_result"
    }
   ],
   "source": [
    "((F.dot(A)+1)>2.16227766).any()"
   ]
  },
  {
   "cell_type": "code",
   "execution_count": 123,
   "metadata": {},
   "outputs": [
    {
     "data": {
      "text/plain": [
       "(2, 1000)"
      ]
     },
     "execution_count": 123,
     "metadata": {},
     "output_type": "execute_result"
    }
   ],
   "source": [
    "(F.dot(A)).shape"
   ]
  },
  {
   "cell_type": "code",
   "execution_count": 27,
   "metadata": {},
   "outputs": [
    {
     "data": {
      "text/plain": [
       "0.036071291884937018"
      ]
     },
     "execution_count": 27,
     "metadata": {},
     "output_type": "execute_result"
    }
   ],
   "source": [
    "Df_matrix(kl, P_X.reshape((len(P_X), 1)), P_Y.reshape((len(P_Y), 1)))"
   ]
  },
  {
   "cell_type": "markdown",
   "metadata": {},
   "source": [
    "## Flavio's Code"
   ]
  },
  {
   "cell_type": "code",
   "execution_count": null,
   "metadata": {
    "collapsed": true
   },
   "outputs": [],
   "source": [
    "n_x = 9\n",
    "n_y = 8\n",
    "P_XY = stochastic_matrix(n_x,n_y)\n",
    "P_X = P_XY.sum(axis=1)\n",
    "P_Y = P_XY.sum(axis=0)\n",
    "\n",
    "pic, f, g = PIC(P_XY,P_X,P_Y)"
   ]
  },
  {
   "cell_type": "code",
   "execution_count": null,
   "metadata": {
    "collapsed": true
   },
   "outputs": [],
   "source": [
    "''' Generate samples '''\n",
    "# number of dimensions and points\n",
    "n_f = 3\n",
    "F = f[:,1:n_f+1]\n",
    "\n",
    "# generate samples\n",
    "nsamples = 10**3\n",
    "\n",
    "# initialize matrix A\n",
    "A = np.zeros((n_f,nsamples))\n",
    "\n",
    "for i in tqdm(range(nsamples)):\n",
    "    # produce samples\n",
    "    ###### TODO: improve this sampling procedure ######    \n",
    "    a = 5*(2*np.random.rand(n_f,1)-1)\n",
    "    \n",
    "    # check if feasible resample\n",
    "    while (F.dot(a)).min()< -1:\n",
    "        a = 10*(2*np.random.rand(n_f,1)-1)\n",
    "    \n",
    "    A[:,i] = a[:,0]\n",
    "    ##############################################"
   ]
  },
  {
   "cell_type": "code",
   "execution_count": null,
   "metadata": {
    "collapsed": true
   },
   "outputs": [],
   "source": [
    "# check values of A that we are obtaining\n",
    "plt.hist(A.flatten(),bins=20)"
   ]
  },
  {
   "cell_type": "code",
   "execution_count": null,
   "metadata": {
    "collapsed": true
   },
   "outputs": [],
   "source": [
    "# check feasibility\n",
    "\n",
    "# produce constraints\n",
    "w = Variable(nsamples,1)\n",
    "constraints = []\n",
    "constraints.append(w>=0)\n",
    "constraints.append(sum(w)==1.0)\n",
    "constraints.append(A*w==0.0)\n",
    "\n",
    "# produce random cost function\n",
    "### !! Substitute this by true cost !!  ###\n",
    "# c = np.random.rand(nsamples,1)\n",
    "################################\n",
    "beta = 1\n",
    "pic_matrix = truncate_pic(pic, n_f)\n",
    "c = np.diag(np.dot(np.dot(A.transpose(), pic_matrix**2 - beta*np.identity(len(pic_matrix))), A))\n",
    "\n",
    "\n",
    "# construct cvxpy optimization probem\n",
    "obj = Maximize(c.transpose()*w)\n",
    "prob = Problem(obj, constraints)"
   ]
  },
  {
   "cell_type": "code",
   "execution_count": null,
   "metadata": {
    "collapsed": true
   },
   "outputs": [],
   "source": []
  },
  {
   "cell_type": "code",
   "execution_count": null,
   "metadata": {
    "collapsed": true
   },
   "outputs": [],
   "source": [
    "# Solve the problem with cvxpy\n",
    "prob.solve()\n",
    "\n",
    "# optimal value\n",
    "optval = prob.value\n",
    "\n",
    "# produce optimal points\n",
    "wv = w.value\n",
    "\n",
    "# keep only values with significant contributions\n",
    "significant_index = np.ravel(wv >1e-8)\n",
    "\n",
    "Asig = A[:,significant_index]\n",
    "P_W = np.ravel(wv[significant_index])\n",
    "\n",
    "# normalize to avoid numerical issues\n",
    "P_W = P_W/sum(P_W)\n",
    "\n",
    "# P_{X|W} (g is for given)\n",
    "P_XgW = np.diag(P_X).dot(1+F.dot(Asig))\n",
    "\n",
    "# Produce joint distribution\n",
    "P_XW = P_XgW.dot(np.diag(P_W))\n",
    "\n",
    "# produce mapping from X to W\n",
    "P_WgX = np.diag(P_X**(-1)).dot(P_XW)"
   ]
  },
  {
   "cell_type": "code",
   "execution_count": null,
   "metadata": {
    "collapsed": true
   },
   "outputs": [],
   "source": []
  },
  {
   "cell_type": "code",
   "execution_count": null,
   "metadata": {
    "collapsed": true
   },
   "outputs": [],
   "source": []
  },
  {
   "cell_type": "code",
   "execution_count": null,
   "metadata": {
    "collapsed": true
   },
   "outputs": [],
   "source": []
  },
  {
   "cell_type": "code",
   "execution_count": null,
   "metadata": {
    "collapsed": true
   },
   "outputs": [],
   "source": []
  },
  {
   "cell_type": "code",
   "execution_count": null,
   "metadata": {
    "collapsed": true
   },
   "outputs": [],
   "source": []
  },
  {
   "cell_type": "code",
   "execution_count": null,
   "metadata": {
    "collapsed": true
   },
   "outputs": [],
   "source": [
    "optval"
   ]
  },
  {
   "cell_type": "code",
   "execution_count": null,
   "metadata": {
    "collapsed": true
   },
   "outputs": [],
   "source": [
    "P_WgX"
   ]
  },
  {
   "cell_type": "code",
   "execution_count": null,
   "metadata": {
    "collapsed": true
   },
   "outputs": [],
   "source": []
  },
  {
   "cell_type": "code",
   "execution_count": null,
   "metadata": {
    "collapsed": true
   },
   "outputs": [],
   "source": []
  },
  {
   "cell_type": "markdown",
   "metadata": {},
   "source": [
    "## Mrs. and Mr. Gerber's Lemma"
   ]
  },
  {
   "cell_type": "code",
   "execution_count": null,
   "metadata": {
    "collapsed": true
   },
   "outputs": [],
   "source": [
    "''' Helper Functions '''\n",
    "# Binary Entropy Function\n",
    "def hb(p):\n",
    "    if p == 0 or p == 1:\n",
    "        return 0\n",
    "    else:\n",
    "        return -p*np.log2(p)-(1-p)*np.log2(1-p)\n",
    "\n",
    "# Binary Entropy Inverted Function\n",
    "def hbv(h):\n",
    "    f = lambda x: x**x * (1-x)**(1-x) - 2**(-h)\n",
    "    return fsolve(f, 0)\n",
    "\n",
    "# Complement Multiplication Operator\n",
    "def star(a, b):\n",
    "    return (1-a)*b+(1-b)*a\n",
    "\n",
    "\n",
    "def MSGL_L(x, delta):\n",
    "    return hb(star(delta, hbv(x)))\n",
    "def MSGL_U(x, delta, q):\n",
    "    f = lambda a: x- a*hb(q/max(a, 2*q))\n",
    "    a = fsolve(f, 0.5)\n",
    "    return a*hb(star(q/max(a, 2*q), delta)) + (1-a)*hb(delta)\n",
    "    "
   ]
  },
  {
   "cell_type": "code",
   "execution_count": null,
   "metadata": {
    "collapsed": true
   },
   "outputs": [],
   "source": [
    "# crossover probability\n",
    "delta = 0.4\n",
    "#\n",
    "q = 0.01\n",
    "\n",
    "x = np.linspace(0, hb(q), 51)\n",
    "MSGL_upper = []\n",
    "MSGL_lower = []\n",
    "for i in range(len(x)):\n",
    "    MSGL_upper.append(MSGL_U(x[i], delta, q)[0])\n",
    "    MSGL_lower.append(MSGL_L(x[i], delta)[0])\n",
    "plt.figure(figsize=(8, 8))\n",
    "plt.plot(x, MSGL_upper, 'b-', label='$\\max\\ H(Y|W)$', linewidth=3)\n",
    "plt.plot(x, MSGL_lower, 'r-', label='$\\min\\ H(Y|W)$', linewidth=3)\n",
    "plt.fill_between(x, MSGL_lower, MSGL_upper, color='gray', label='Achievable Regions')\n",
    "plt.xlabel('$H(X|W)$', fontsize = 15)\n",
    "plt.ylabel('$H(Y|W)$', fontsize = 15)\n",
    "plt.legend(loc='best', fontsize=15)"
   ]
  },
  {
   "cell_type": "code",
   "execution_count": null,
   "metadata": {
    "collapsed": true
   },
   "outputs": [],
   "source": [
    "# crossover probability\n",
    "delta = 0.1\n",
    "# \n",
    "q = 0.1\n",
    "\n",
    "x = np.linspace(0, hb(q), 51)\n",
    "I_WX = []\n",
    "I_WY_min = []\n",
    "I_WY_max = []\n",
    "for i in range(len(x)):\n",
    "    I_WX.append(hb(q) - x[i])\n",
    "    I_WY_min.append(hb(star(q, delta)) - MSGL_U(x[i], delta, q))\n",
    "    I_WY_max.append(hb(star(q, delta)) - MSGL_L(x[i], delta))\n",
    " \n",
    "plt.figure(figsize=(8, 8))\n",
    "plt.plot(I_WX, I_WY_min, 'b-', label='Privacy Funnel')\n",
    "plt.plot(I_WX, I_WY_max, 'r-', label='Information Bottleneck')\n",
    "plt.xlabel('$I(W; X)$', fontsize = 15)\n",
    "plt.ylabel('$I(W; Y)$', fontsize = 15)\n",
    "plt.legend(loc='best', fontsize=15)\n",
    "plt.title('BSC with Crossover Probability %.2f and P(X=1) = %.2f'%(delta, q), fontsize=15)"
   ]
  },
  {
   "cell_type": "code",
   "execution_count": null,
   "metadata": {
    "collapsed": true
   },
   "outputs": [],
   "source": []
  },
  {
   "cell_type": "markdown",
   "metadata": {
    "collapsed": true
   },
   "source": [
    "## IB and PF in $\\chi^2$ divergence"
   ]
  },
  {
   "cell_type": "code",
   "execution_count": null,
   "metadata": {
    "collapsed": true
   },
   "outputs": [],
   "source": [
    "def D(func, p, q):\n",
    "    return q*func(p/q) + (1-q)*func((1-p)/(1-q))\n",
    "def star(a, b):\n",
    "    return (1-a)*b+(1-b)*a\n",
    "def phi(func, lambda_, p, qx, qy, delta):\n",
    "    return D(func, star(p, delta), qy) - lambda_*D(func, p, qx)\n",
    "\n",
    "kl = lambda t: t*np.log2(t)\n",
    "ci = lambda t: (t-1)**2\n",
    "\n",
    "f, g = ci, ci\n",
    "\n",
    "number_of_samples = 11\n",
    "X = np.linspace(0, 0.9, number_of_samples)\n",
    "number_of_slopes = 11\n",
    "lambdas = np.linspace(0, 20, number_of_slopes)\n",
    "p = np.linspace(0, 1, number_of_samples)\n",
    "\n",
    "qx = 0.1\n",
    "delta = 0.1\n",
    "qy = star(qx, delta)\n",
    "L_T = []\n",
    "U_T = []\n",
    "\n",
    "for i in range(number_of_samples):\n",
    "    x = X[i]\n",
    "    objective_L, objective_U = [], []\n",
    "    Phi = []\n",
    "    for j in range(number_of_slopes):\n",
    "        lambda_ = lambdas[j]\n",
    "        for k in range(number_of_samples):\n",
    "            Phi.append(phi(f, lambda_, p[k], qx, qy, delta))\n",
    "        if Phi[round(number_of_samples/2)] < 0.5*Phi[0]+0.5*Phi[-1]:\n",
    "            pxi_L = phi(f, lambda_, qx, qx, qy, delta)\n",
    "            pxi_U = (Phi[-1]-Phi[0])*qx + Phi[0]\n",
    "        else:\n",
    "            pxi_L = (Phi[-1]-Phi[0])*qx + Phi[0]\n",
    "            pxi_U = phi(f, lambda_, qx, qx, qy, delta)\n",
    "        objective_L.append(pxi_L+lambda_*x)\n",
    "        objective_U.append(pxi_U+lambda_*x)\n",
    "    L_T.append(max(objective_L))\n",
    "    U_T.append(min(objective_U))"
   ]
  },
  {
   "cell_type": "code",
   "execution_count": null,
   "metadata": {
    "collapsed": true
   },
   "outputs": [],
   "source": [
    "fig = plt.figure(figsize=(5, 5))\n",
    "plt.plot(X, L_T, 'b.-', alpha=0.3)\n",
    "plt.plot(X, U_T, 'r.-', alpha=0.3)\n",
    "plt.fill_between(X, L_T, U_T, color= 'gray', alpha=0.7)"
   ]
  },
  {
   "cell_type": "markdown",
   "metadata": {},
   "source": [
    "## Generalized Mrs. and Mr. Gerber's Lemma"
   ]
  },
  {
   "cell_type": "code",
   "execution_count": null,
   "metadata": {
    "collapsed": true
   },
   "outputs": [],
   "source": [
    "''' Helper Functions '''\n",
    "# Binary Entropy Function\n",
    "def hb(p):\n",
    "    if p == 0 or p == 1:\n",
    "        return 0\n",
    "    else:\n",
    "        return -p*np.log2(p)-(1-p)*np.log2(1-p)\n",
    "\n",
    "# Binary Entropy Inverted Function\n",
    "def hbv(h):\n",
    "    f = lambda x: x**x * (1-x)**(1-x) - 2**(-h)\n",
    "    return fsolve(f, 0)\n",
    "\n",
    "# Complement Multiplication Operator\n",
    "def star(a, b):\n",
    "    return (1-a)*b+(1-b)*a\n",
    "\n",
    "# Mr./Mrs. Gerber's Lemma\n",
    "def MSGL_L(x, delta):\n",
    "    return hb(star(delta, hbv(x)))\n",
    "def MSGL_U(x, delta, q):\n",
    "    f = lambda a: x- a*hb(q/max(a, 2*q))\n",
    "    a = fsolve(f, 0.5)\n",
    "    return a*hb(star(q/max(a, 2*q), delta)) + (1-a)*hb(delta)\n",
    "\n",
    "# Renyi Entropy\n",
    "def Hb(b, P_X):\n",
    "    sum_ = 0\n",
    "    for i in range(len(P_X)):\n",
    "        sum_ = sum_ + P_X[i]**b\n",
    "    return 1/(1-b)*np.log(sum_)\n",
    "def Kb(b, P_X):\n",
    "    return np.exp((1-b)/b*Hb(b, P_X))\n",
    "\n",
    "# Generalized Mr./Mrs. Gerber's Lemma\n",
    "def GMRGL(x, q, delta, b):\n",
    "    f = lambda a: Kb(b, [a, 1-a])-x\n",
    "    p = fsolve(f, 0.5)\n",
    "    return Kb(b, [star(p, delta), star(1-p, delta)])\n",
    "def GMSGL(x, q, delta, b):\n",
    "    f = lambda a: (1-a) + a*Kb(b, [q/max(a, 2*q), 1-q/max(a, 2*q)]) - x\n",
    "    a = fsolve(f, 0.5)\n",
    "    return a*Kb(b, [star(q/max(a, 2*q), delta), 1-star(q/max(a, 2*q), delta)]) + (1-a)*Kb(b, [delta, 1-delta])"
   ]
  },
  {
   "cell_type": "code",
   "execution_count": null,
   "metadata": {
    "collapsed": true
   },
   "outputs": [],
   "source": [
    "''' Setting Up '''\n",
    "# Pr(X=1) = q\n",
    "q = 0.4\n",
    "# Crossover Probability \\delta\n",
    "delta = 0.2\n",
    "# Order\n",
    "B = [2, 5, 10]\n",
    "# Resolution of the Image\n",
    "n_sample = 51\n",
    "\n",
    "P_X = [q, 1-q]\n",
    "P_Y = [star(q, delta), star(1-q, delta)]\n",
    "Ib_XW, Ib_YW_min, Ib_YW_max = \\\n",
    "     np.zeros((len(B)+1, n_sample)), np.zeros((len(B)+1, n_sample)), np.zeros((len(B)+1, n_sample))\n",
    "\n",
    "figure_description = 'BSC_MGL.eps'\n",
    "\n",
    "''' Mr./Mrs. Gerber's Lemma '''\n",
    "H_X = np.linspace(0, hb(q), n_sample)    \n",
    "for i in range(n_sample):\n",
    "    x = H_X[i]\n",
    "    Ib_XW[0][i] = hb(q) - x\n",
    "    Ib_YW_min[0][i] = hb(star(q, delta)) - MSGL_U(x, delta, q)\n",
    "    Ib_YW_max[0][i] = hb(star(q, delta)) - MSGL_L(x, delta)\n",
    "    \n",
    "plt.figure(figsize=(8, 8))\n",
    "matplotlib.rcParams.update({'font.size': 15})\n",
    "plt.plot(Ib_XW[0, :], Ib_YW_min[0, :], 'b-', linewidth=1, label='Generalized MRGL')\n",
    "plt.plot(Ib_XW[0, :], Ib_YW_max[0, :], 'r-', linewidth=1, label='Generalized MGL')\n",
    "plt.fill_between(Ib_XW[0, :], Ib_YW_min[0, :], Ib_YW_max[0, :], color='gray', label=r'$\\beta = $%d'%1, alpha=0.7)\n",
    "    \n",
    "''' Generalized Mr./Mrs. Gerber's Lemma '''\n",
    "C = ['orange', 'green', 'purple']\n",
    "for j in range(1, len(B)+1):\n",
    "    b = B[j-1]\n",
    "    Hb_X = Hb(b, P_X)\n",
    "    Hb_Y = Hb(b, P_Y)\n",
    "    Kb_XgW = np.linspace(Kb(b, P_X), 1, n_sample)\n",
    "    for i in range(n_sample):\n",
    "        x = Kb_XgW[i]\n",
    "        Ib_XW[j][i] = Hb_X - b/(1-b)*np.log(x)\n",
    "        Ib_YW_min[j][i] = Hb_Y - b/(1-b)*np.log(GMRGL(x, q, delta, b)[0])\n",
    "        Ib_YW_max[j][i] = Hb_Y - b/(1-b)*np.log(GMSGL(x, q, delta, b)[0])\n",
    "\n",
    "#     plt.plot(Ib_XW[j, :], Ib_YW_min[j, :], 'b-', linewidth=1)\n",
    "#     plt.plot(Ib_XW[j, :], Ib_YW_max[j, :], 'r-', linewidth=1)\n",
    "    plt.fill_between(Ib_XW[j, :], Ib_YW_min[j, :], Ib_YW_max[j, :], color=C[j-1], label=r'$\\beta = $%d'%b, alpha=0.7)\n",
    "\n",
    "plt.xlim(xmin=0)\n",
    "plt.ylim(ymin=0)\n",
    "plt.xlabel(r'$I_\\beta(W; X)$', fontsize = 15)\n",
    "plt.ylabel(r'$I_\\beta(W; Y)$', fontsize = 15)\n",
    "plt.legend(loc='lower right', fontsize=15)\n",
    "plt.savefig('Figures/%s'%figure_description, format='eps', dpi=1000)"
   ]
  },
  {
   "cell_type": "markdown",
   "metadata": {},
   "source": [
    "## Integrate All the Figures"
   ]
  },
  {
   "cell_type": "code",
   "execution_count": null,
   "metadata": {
    "collapsed": true
   },
   "outputs": [],
   "source": [
    "fig, ax = plt.subplots(1, 3, figsize=(27, 8))\n",
    "fontsize = 20\n",
    "linewidth = 2\n",
    "matplotlib.rcParams.update({'font.size': fontsize})\n",
    "\n",
    "figure_description = 'ISIT18.eps'\n",
    "\n",
    "ax[0].plot(I_WX, I_WY_max, 'r-', linewidth=linewidth, label=r'$\\mathsf{IB}(P_{XY}, x)$')\n",
    "ax[0].plot(I_WX, I_WY_min, 'b--', linewidth=linewidth, label=r'$\\mathsf{PF}(P_{XY}, x)$')\n",
    "ax[0].set_xlabel('$I(W; X)$', fontsize = fontsize)\n",
    "ax[0].set_ylabel('$I(W; Y)$', fontsize = fontsize)\n",
    "ax[0].legend(loc='best', fontsize=fontsize)\n",
    "\n",
    "ax[1].plot(X, U_T, 'r-', linewidth=linewidth, label=r'$\\mathsf{IB}_{\\chi^2}(P_{XY}, x)$')\n",
    "ax[1].plot(X, L_T, 'b--', linewidth=linewidth, label=r'$\\mathsf{PF}_{\\chi^2}(P_XY, x)$')\n",
    "ax[1].set_xlabel(r'$\\chi^2(W; X)$', fontsize = fontsize)\n",
    "ax[1].set_ylabel(r'$\\chi^2(W; Y)$', fontsize = fontsize)\n",
    "ax[1].legend(loc='best', fontsize=fontsize)\n",
    "\n",
    "# ax[2].plot(Ib_XW[0, :], Ib_YW_min[0, :], 'b-', linewidth=2, label='Generalized MRGL')\n",
    "# ax[2].plot(Ib_XW[0, :], Ib_YW_max[0, :], 'r-', linewidth=2, label='Generalized MGL')\n",
    "ax[2].fill_between(Ib_XW[0, :], Ib_YW_min[0, :], Ib_YW_max[0, :], color='gray', label=r'$\\beta = $%d'%1, alpha=0.7)\n",
    "for j in range(1, len(B)+1):\n",
    "    b = B[j-1]\n",
    "    ax[2].fill_between(Ib_XW[j, :], Ib_YW_min[j, :], Ib_YW_max[j, :], color=C[j-1], label=r'$\\beta = $%d'%b, alpha=0.7)\n",
    "ax[2].set_xlim(xmin=0)\n",
    "ax[2].set_ylim(ymin=0)\n",
    "ax[2].set_xlabel(r'$I_\\beta(W; X)$', fontsize = fontsize)\n",
    "ax[2].set_ylabel(r'$I_\\beta(W; Y)$', fontsize = fontsize)\n",
    "# ax[2].legend(loc='lower right', fontsize=15)\n",
    "ax[2].text(0.2, 0.25, r'$\\beta=10$', color='purple')\n",
    "ax[2].text(0.6, 0.35, r'$\\beta=5$', color='green')\n",
    "ax[2].text(0.6, 0.25, r'$\\beta=2$', color='orange')\n",
    "ax[2].text(0.8, 0.20, r'$\\beta=1$', color='gray')\n",
    "plt.savefig('Figures/%s'%figure_description, format='eps', dpi=1000, bbox_inches='tight')"
   ]
  },
  {
   "cell_type": "code",
   "execution_count": null,
   "metadata": {
    "collapsed": true
   },
   "outputs": [],
   "source": []
  },
  {
   "cell_type": "code",
   "execution_count": null,
   "metadata": {
    "collapsed": true
   },
   "outputs": [],
   "source": []
  }
 ],
 "metadata": {
  "anaconda-cloud": {},
  "kernelspec": {
   "display_name": "Python 3",
   "language": "python",
   "name": "python3"
  },
  "language_info": {
   "codemirror_mode": {
    "name": "ipython",
    "version": 3
   },
   "file_extension": ".py",
   "mimetype": "text/x-python",
   "name": "python",
   "nbconvert_exporter": "python",
   "pygments_lexer": "ipython3",
   "version": "3.6.1"
  }
 },
 "nbformat": 4,
 "nbformat_minor": 1
}
