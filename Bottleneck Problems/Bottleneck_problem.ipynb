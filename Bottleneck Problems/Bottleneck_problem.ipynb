{
 "cells": [
  {
   "cell_type": "markdown",
   "metadata": {},
   "source": [
    "### Learning, Information and Knowledge Systems Lab, SEAS, Harvard University\n",
    "### Hsiang Hsu\n",
    "#### hsianghsu@g.harvard.edu\n",
    "\n",
    "# Bottleneck Problem\n",
    "\n",
    "**Fall 2017**<br/>\n",
    "**Instructors**: Professor Flavio Calmon\n",
    "\n",
    "---"
   ]
  },
  {
   "cell_type": "code",
   "execution_count": 1,
   "metadata": {
    "collapsed": true
   },
   "outputs": [],
   "source": [
    "%matplotlib inline\n",
    "import numpy as np\n",
    "import scipy as sp\n",
    "import matplotlib.pyplot as plt\n",
    "\n",
    "from scipy.spatial import ConvexHull"
   ]
  },
  {
   "cell_type": "markdown",
   "metadata": {},
   "source": [
    "## Information Bottleneck\n",
    "\n",
    "I use the sample codes in https://www.tensorflow.org/get_started/mnist/beginners to get familiar with MNIST and tenrsorflow package."
   ]
  },
  {
   "cell_type": "code",
   "execution_count": 3,
   "metadata": {
    "collapsed": true
   },
   "outputs": [],
   "source": [
    "from IB import *\n",
    "from data_generation import *\n",
    "import os\n",
    "\n",
    "def test_IB_single():   \n",
    "    \n",
    "    # generate and visualize dataset\n",
    "    ds = gen_easytest()\n",
    "    ds.s = 1.\n",
    "    ds.coord_to_pxy()\n",
    "    ds.plot_pxy()\n",
    "\n",
    "    # init model\n",
    "    m = model(ds=ds,alpha=1,beta=5)\n",
    "    \n",
    "    # fit model\n",
    "    m.fit(keep_steps=True)\n",
    "    \n",
    "    return m\n",
    "\n",
    "def test_IB():\n",
    "    \n",
    "    # generate and visualize dataset\n",
    "    ds = gen_easytest()\n",
    "    ds.s = 1.\n",
    "    ds.coord_to_pxy()\n",
    "    ds.plot_pxy()\n",
    "    \n",
    "    # set up fit param\n",
    "    fit_param = pd.DataFrame(data={'alpha': [1,0]})\n",
    "    fit_param['repeats'] = 3\n",
    "    \n",
    "    # fit models\n",
    "    metrics_conv, dist_conv, metrics_sw, dist_sw = IB(ds,fit_param)\n",
    "    \n",
    "    return metrics_conv, dist_conv, metrics_sw, dist_sw"
   ]
  },
  {
   "cell_type": "markdown",
   "metadata": {
    "collapsed": true
   },
   "source": [
    "## Estimation Bottleneck"
   ]
  },
  {
   "cell_type": "code",
   "execution_count": null,
   "metadata": {
    "collapsed": true
   },
   "outputs": [],
   "source": []
  },
  {
   "cell_type": "code",
   "execution_count": null,
   "metadata": {
    "collapsed": true
   },
   "outputs": [],
   "source": []
  },
  {
   "cell_type": "code",
   "execution_count": null,
   "metadata": {
    "collapsed": true
   },
   "outputs": [],
   "source": []
  },
  {
   "cell_type": "markdown",
   "metadata": {
    "collapsed": true
   },
   "source": [
    "## [WW'75] IV Evaluation of F\n",
    "### A. Binary Symmetric Channel"
   ]
  },
  {
   "cell_type": "code",
   "execution_count": 4,
   "metadata": {},
   "outputs": [
    {
     "ename": "TypeError",
     "evalue": "object of type 'float' has no len()",
     "output_type": "error",
     "traceback": [
      "\u001b[0;31m---------------------------------------------------------------------------\u001b[0m",
      "\u001b[0;31mTypeError\u001b[0m                                 Traceback (most recent call last)",
      "\u001b[0;32m<ipython-input-4-3ff87ed9f286>\u001b[0m in \u001b[0;36m<module>\u001b[0;34m()\u001b[0m\n\u001b[1;32m     38\u001b[0m \u001b[0mlower_bound\u001b[0m \u001b[0;34m=\u001b[0m \u001b[0;34m[\u001b[0m\u001b[0;34m]\u001b[0m\u001b[0;34m\u001b[0m\u001b[0m\n\u001b[1;32m     39\u001b[0m \u001b[0mq\u001b[0m \u001b[0;34m=\u001b[0m \u001b[0;36m0.5\u001b[0m\u001b[0;34m\u001b[0m\u001b[0m\n\u001b[0;32m---> 40\u001b[0;31m \u001b[0mprint\u001b[0m\u001b[0;34m(\u001b[0m\u001b[0mF_T\u001b[0m\u001b[0;34m(\u001b[0m\u001b[0mq\u001b[0m\u001b[0;34m,\u001b[0m \u001b[0mx\u001b[0m\u001b[0;34m,\u001b[0m \u001b[0merror_prob\u001b[0m\u001b[0;34m)\u001b[0m\u001b[0;34m)\u001b[0m\u001b[0;34m\u001b[0m\u001b[0m\n\u001b[0m\u001b[1;32m     41\u001b[0m \u001b[0;32mfor\u001b[0m \u001b[0mi\u001b[0m \u001b[0;32min\u001b[0m \u001b[0mrange\u001b[0m\u001b[0;34m(\u001b[0m\u001b[0mlen\u001b[0m\u001b[0;34m(\u001b[0m\u001b[0mX_entropy\u001b[0m\u001b[0;34m)\u001b[0m\u001b[0;34m)\u001b[0m\u001b[0;34m:\u001b[0m\u001b[0;34m\u001b[0m\u001b[0m\n\u001b[1;32m     42\u001b[0m     \u001b[0mx\u001b[0m \u001b[0;34m=\u001b[0m \u001b[0mX_entropy\u001b[0m\u001b[0;34m[\u001b[0m\u001b[0mi\u001b[0m\u001b[0;34m]\u001b[0m\u001b[0;34m\u001b[0m\u001b[0m\n",
      "\u001b[0;32m<ipython-input-4-3ff87ed9f286>\u001b[0m in \u001b[0;36mF_T\u001b[0;34m(q, x, delta)\u001b[0m\n\u001b[1;32m     20\u001b[0m     \u001b[0mlambda_\u001b[0m \u001b[0;34m=\u001b[0m \u001b[0mnp\u001b[0m\u001b[0;34m.\u001b[0m\u001b[0mlinspace\u001b[0m\u001b[0;34m(\u001b[0m\u001b[0;36m0\u001b[0m\u001b[0;34m,\u001b[0m \u001b[0;36m1\u001b[0m\u001b[0;34m,\u001b[0m \u001b[0;36m101\u001b[0m\u001b[0;34m)\u001b[0m\u001b[0;34m\u001b[0m\u001b[0m\n\u001b[1;32m     21\u001b[0m     \u001b[0;32mfor\u001b[0m \u001b[0ml\u001b[0m \u001b[0;32min\u001b[0m \u001b[0mlambda_\u001b[0m\u001b[0;34m:\u001b[0m\u001b[0;34m\u001b[0m\u001b[0m\n\u001b[0;32m---> 22\u001b[0;31m         \u001b[0mtemp\u001b[0m\u001b[0;34m.\u001b[0m\u001b[0mappend\u001b[0m\u001b[0;34m(\u001b[0m\u001b[0mpsi\u001b[0m\u001b[0;34m(\u001b[0m\u001b[0mq\u001b[0m\u001b[0;34m,\u001b[0m \u001b[0ml\u001b[0m\u001b[0;34m,\u001b[0m \u001b[0mdelta\u001b[0m\u001b[0;34m)\u001b[0m \u001b[0;34m+\u001b[0m \u001b[0ml\u001b[0m\u001b[0;34m*\u001b[0m\u001b[0mx\u001b[0m\u001b[0;34m)\u001b[0m\u001b[0;34m\u001b[0m\u001b[0m\n\u001b[0m\u001b[1;32m     23\u001b[0m     \u001b[0;32mreturn\u001b[0m \u001b[0mnp\u001b[0m\u001b[0;34m.\u001b[0m\u001b[0mmax\u001b[0m\u001b[0;34m(\u001b[0m\u001b[0mtemp\u001b[0m\u001b[0;34m)\u001b[0m\u001b[0;34m\u001b[0m\u001b[0m\n\u001b[1;32m     24\u001b[0m \u001b[0;34m\u001b[0m\u001b[0m\n",
      "\u001b[0;32m<ipython-input-4-3ff87ed9f286>\u001b[0m in \u001b[0;36mpsi\u001b[0;34m(p, lambda_, delta)\u001b[0m\n\u001b[1;32m      9\u001b[0m     \u001b[0mresult\u001b[0m \u001b[0;34m=\u001b[0m \u001b[0;34m[\u001b[0m\u001b[0;34m]\u001b[0m\u001b[0;34m\u001b[0m\u001b[0m\n\u001b[1;32m     10\u001b[0m     \u001b[0mp_lambda\u001b[0m \u001b[0;34m=\u001b[0m \u001b[0mp_list\u001b[0m\u001b[0;34m[\u001b[0m\u001b[0mnp\u001b[0m\u001b[0;34m.\u001b[0m\u001b[0margmin\u001b[0m\u001b[0;34m(\u001b[0m\u001b[0mphi\u001b[0m\u001b[0;34m(\u001b[0m\u001b[0mp\u001b[0m\u001b[0;34m,\u001b[0m \u001b[0mlambda_\u001b[0m\u001b[0;34m,\u001b[0m \u001b[0mdelta\u001b[0m\u001b[0;34m)\u001b[0m\u001b[0;34m)\u001b[0m\u001b[0;34m]\u001b[0m\u001b[0;34m\u001b[0m\u001b[0m\n\u001b[0;32m---> 11\u001b[0;31m     \u001b[0;32mfor\u001b[0m \u001b[0mi\u001b[0m \u001b[0;32min\u001b[0m \u001b[0mrange\u001b[0m\u001b[0;34m(\u001b[0m\u001b[0mlen\u001b[0m\u001b[0;34m(\u001b[0m\u001b[0mp\u001b[0m\u001b[0;34m)\u001b[0m\u001b[0;34m)\u001b[0m\u001b[0;34m:\u001b[0m\u001b[0;34m\u001b[0m\u001b[0m\n\u001b[0m\u001b[1;32m     12\u001b[0m         \u001b[0;32mif\u001b[0m \u001b[0mp\u001b[0m\u001b[0;34m[\u001b[0m\u001b[0mi\u001b[0m\u001b[0;34m]\u001b[0m \u001b[0;34m>=\u001b[0m \u001b[0mp_lambda\u001b[0m \u001b[0;32mand\u001b[0m \u001b[0mp\u001b[0m\u001b[0;34m[\u001b[0m\u001b[0mi\u001b[0m\u001b[0;34m]\u001b[0m \u001b[0;34m<=\u001b[0m \u001b[0;36m1\u001b[0m \u001b[0;34m-\u001b[0m \u001b[0mp_lambda\u001b[0m\u001b[0;34m:\u001b[0m\u001b[0;34m\u001b[0m\u001b[0m\n\u001b[1;32m     13\u001b[0m             \u001b[0mresult\u001b[0m\u001b[0;34m.\u001b[0m\u001b[0mappend\u001b[0m\u001b[0;34m(\u001b[0m\u001b[0mnp\u001b[0m\u001b[0;34m.\u001b[0m\u001b[0mmin\u001b[0m\u001b[0;34m(\u001b[0m\u001b[0mphi\u001b[0m\u001b[0;34m(\u001b[0m\u001b[0mp\u001b[0m\u001b[0;34m,\u001b[0m \u001b[0mlambda_\u001b[0m\u001b[0;34m,\u001b[0m \u001b[0mdelta\u001b[0m\u001b[0;34m)\u001b[0m\u001b[0;34m)\u001b[0m\u001b[0;34m)\u001b[0m\u001b[0;34m\u001b[0m\u001b[0m\n",
      "\u001b[0;31mTypeError\u001b[0m: object of type 'float' has no len()"
     ]
    },
    {
     "data": {
      "image/png": "[encoded data removed]",
      "text/plain": [
       "<matplotlib.figure.Figure at 0x10f97b748>"
      ]
     },
     "metadata": {},
     "output_type": "display_data"
    }
   ],
   "source": [
    "p_list = np.linspace(0.01, 0.99, 99)\n",
    "error_prob = 0.1\n",
    "l = 0.58\n",
    "def hb(p):\n",
    "    return -p*np.log2(p) -(1-p)*np.log2(1-p) \n",
    "def phi(p, lambda_, delta):\n",
    "    return hb(delta+(1-2*delta)*p) - lambda_*hb(p)\n",
    "def psi(p, lambda_, delta):\n",
    "    result = []\n",
    "    p_lambda = p_list[np.argmin(phi(p, lambda_, delta))]\n",
    "    for i in range(len(p)):\n",
    "        if p[i] >= p_lambda and p[i] <= 1 - p_lambda:\n",
    "            result.append(np.min(phi(p, lambda_, delta)))\n",
    "        else:\n",
    "            result.append(phi(p[i], lambda_, delta))\n",
    "    return result\n",
    "\n",
    "def F_T(q, x, delta):\n",
    "    temp = []\n",
    "    lambda_ = np.linspace(0, 1, 101)\n",
    "    for l in lambda_:\n",
    "        temp.append(psi(q, l, delta) + l*x)\n",
    "    return np.max(temp)\n",
    "\n",
    "fig, ax = plt.subplots(1, 2, figsize=(20, 5))\n",
    "ax[0].plot(p_list, phi(p_list, l, error_prob), 'r.-', alpha = 0.3, label='$\\phi(p, \\lambda)$');\n",
    "ax[0].plot(p_list, psi(p_list, l, error_prob), 'bx-', alpha = 0.3, label='$\\psi(p, \\lambda)$');\n",
    "ax[0].axvline(x = 0.0, color='k')\n",
    "ax[0].axvline(x = 1.0, color='k')\n",
    "ax[0].set_xticks(np.linspace(0, 1, 11));\n",
    "ax[0].set_xlabel('p')\n",
    "ax[0].legend(loc='best')\n",
    "ax[0].set_title('$\\delta$ = %f, $\\lambda$ = %f'%(error_prob, l))\n",
    "\n",
    "#print(F_T(q, x, error_prob))\n",
    "\n",
    "X_entropy = hb(p_list)\n",
    "lower_bound = []\n",
    "q = 0.5\n",
    "print(F_T(q, x, error_prob))\n",
    "for i in range(len(X_entropy)):\n",
    "    x = X_entropy[i]\n",
    "    lower_bound.append(F_T(q, x, error_prob))\n",
    "ax[1].plot(X_entropy, lower_bound, 'r.-', alpha = 0.3, label='$\\phi(p, \\lambda)$');"
   ]
  },
  {
   "cell_type": "markdown",
   "metadata": {},
   "source": [
    "### B. Symmetric Binary Erasure Channel"
   ]
  },
  {
   "cell_type": "code",
   "execution_count": null,
   "metadata": {
    "collapsed": true
   },
   "outputs": [],
   "source": []
  },
  {
   "cell_type": "code",
   "execution_count": null,
   "metadata": {
    "collapsed": true
   },
   "outputs": [],
   "source": []
  },
  {
   "cell_type": "code",
   "execution_count": null,
   "metadata": {
    "collapsed": true
   },
   "outputs": [],
   "source": []
  },
  {
   "cell_type": "markdown",
   "metadata": {},
   "source": [
    "## Our Results"
   ]
  },
  {
   "cell_type": "markdown",
   "metadata": {},
   "source": [
    "## M-ary Channels"
   ]
  },
  {
   "cell_type": "code",
   "execution_count": 2,
   "metadata": {
    "collapsed": true
   },
   "outputs": [],
   "source": [
    "''' Helper Functions '''\n",
    "def stochastic_matrix(n, m):\n",
    "    matrix = np.random.rand(n,m)\n",
    "    return matrix/matrix.sum(axis=0)\n",
    "\n",
    "def f_divergence(f, p, q):\n",
    "    result = 0\n",
    "    for i in range(len(p)):\n",
    "        result = result + q[i]*f(p[i]/q[i])\n",
    "    return result\n",
    "\n",
    "def phi(f, g, lambda_, p_xw, p_x, p_yw, p_y):\n",
    "    result = f_divergence(f, p_xw, p_x)[0] - lambda_*f_divergence(g, p_yw, p_y)[0]\n",
    "    return result\n",
    "\n",
    "def BSC_matrix(delta):\n",
    "    return np.matrix([[1-delta, delta], [delta, 1-delta]])\n",
    "#def Mary_matrix()\n",
    "#def noisy_typewriter()\n",
    "def random_channel(n, m):\n",
    "    return stochastic_matrix(n, m)"
   ]
  },
  {
   "cell_type": "code",
   "execution_count": null,
   "metadata": {
    "collapsed": true
   },
   "outputs": [],
   "source": []
  },
  {
   "cell_type": "code",
   "execution_count": null,
   "metadata": {
    "collapsed": true
   },
   "outputs": [],
   "source": []
  },
  {
   "cell_type": "code",
   "execution_count": null,
   "metadata": {
    "collapsed": true
   },
   "outputs": [],
   "source": [
    "T = BSC_matrix(0.1)\n",
    "p_x = stochastic_matrix(m, 1)\n",
    "p_y = stochastic_matrix(n, 1)"
   ]
  },
  {
   "cell_type": "code",
   "execution_count": 38,
   "metadata": {},
   "outputs": [
    {
     "data": {
      "image/png": "[encoded data removed]",
      "text/plain": [
       "<matplotlib.figure.Figure at 0x1114ac780>"
      ]
     },
     "metadata": {},
     "output_type": "display_data"
    }
   ],
   "source": [
    "''' Create the Channel Transition Matrix '''\n",
    "n = 2\n",
    "m = 2\n",
    "#T = BSC_matrix(0.1)\n",
    "#p_x = stochastic_matrix(m, 1)\n",
    "#p_y = stochastic_matrix(n, 1)\n",
    "\n",
    "f_kl = lambda t: t*np.log(t)\n",
    "g_kl = lambda t: t*np.log(t)\n",
    "\n",
    "f_ci = lambda t: t**2 - 1\n",
    "g_ci = lambda t: t**2 - 1\n",
    "\n",
    "lambda_ = 14\n",
    "\n",
    "mc_size = 100\n",
    "phi_list = []\n",
    "p = []\n",
    "for i in range(mc_size):\n",
    "    #print(i)\n",
    "    p_xw = stochastic_matrix(n, 1)\n",
    "    p_yw = np.dot(T, p_xw)\n",
    "    \n",
    "    phi_list.append(float(phi(f_ci, g_ci, lambda_, p_xw, p_x, p_yw, p_y)))\n",
    "    p.append(float(p_xw[0]))\n",
    "    #print(p_xw)\n",
    "    #print('=================')\n",
    "    #print(phi(f_kl, g_kl, lambda_, p_xw, p_x, p_yw, p_y))\n",
    "\n",
    "plt.figure(figsize=(8, 8))\n",
    "plt.plot(p, phi_list, 'bo')\n",
    "#plt.xlabel('$D_f(P_{X|W}\\|P_X)$', fontsize = 15)\n",
    "#plt.ylabel('$D_g(P_{Y|W}\\|P_Y)$', fontsize = 15)\n",
    "plt.xlabel('$p_{xw}$', fontsize = 15)\n",
    "plt.ylabel('$\\phi(\\lambda, p)$', fontsize = 15)\n",
    "plt.title('$\\lambda = $ %f' %lambda_)\n",
    "\n",
    "points = np.transpose(np.vstack((p, phi_list)))\n",
    "hull = ConvexHull(points)\n",
    "\n",
    "plt.plot(points[:,0], points[:,1], 'o')\n",
    "for simplex in hull.simplices:\n",
    "    plt.plot(points[simplex, 0], points[simplex, 1], 'r--')\n"
   ]
  },
  {
   "cell_type": "code",
   "execution_count": 19,
   "metadata": {},
   "outputs": [
    {
     "data": {
      "text/plain": [
       "[<matplotlib.lines.Line2D at 0x10fff72b0>,\n",
       " <matplotlib.lines.Line2D at 0x10fff7b38>]"
      ]
     },
     "execution_count": 19,
     "metadata": {},
     "output_type": "execute_result"
    },
    {
     "data": {
      "image/png": "[encoded data removed]",
      "text/plain": [
       "<matplotlib.figure.Figure at 0x111059dd8>"
      ]
     },
     "metadata": {},
     "output_type": "display_data"
    }
   ],
   "source": [
    "plt.plot(points[hull.simplices, 0], points[hull.simplices, 1], 'ro')"
   ]
  },
  {
   "cell_type": "code",
   "execution_count": 11,
   "metadata": {},
   "outputs": [
    {
     "name": "stdout",
     "output_type": "stream",
     "text": [
      "16\n"
     ]
    }
   ],
   "source": [
    "print(np.argmin(points[:, 0]))"
   ]
  },
  {
   "cell_type": "code",
   "execution_count": null,
   "metadata": {
    "collapsed": true
   },
   "outputs": [],
   "source": []
  },
  {
   "cell_type": "code",
   "execution_count": null,
   "metadata": {
    "collapsed": true
   },
   "outputs": [],
   "source": [
    "''' Create the Channel Transition Matrix '''\n",
    "n = 2\n",
    "m = 2\n",
    "T = BSC_matrix(0.1)\n",
    "p_x = stochastic_matrix(m, 1)\n",
    "p_y = stochastic_matrix(n, 1)\n",
    "\n",
    "f_kl = lambda t: t*np.log(t)\n",
    "g_kl = lambda t: t*np.log(t)\n",
    "\n",
    "f_ci = lambda t: t**2 - 1\n",
    "g_ci = lambda t: t**2 - 1\n",
    "\n",
    "lambda_ = 1.9\n",
    "\n",
    "mc_size = 100\n",
    "phi_list = []\n",
    "p = []\n",
    "for i in range(mc_size):\n",
    "    #print(i)\n",
    "    p_xw = stochastic_matrix(n, 1)\n",
    "    p_yw = np.dot(T, p_xw)\n",
    "    \n",
    "    phi_list.append(float(phi(f_kl, g_kl, lambda_, p_xw, p_x, p_yw, p_y)))\n",
    "    p.append(float(p_xw[0]))\n",
    "    #print(p_xw)\n",
    "    #print('=================')\n",
    "    #print(phi(f_kl, g_kl, lambda_, p_xw, p_x, p_yw, p_y))\n",
    "\n",
    "plt.figure(figsize=(8, 8))\n",
    "plt.plot(p, phi_list, 'bo')\n",
    "#plt.xlabel('$D_f(P_{X|W}\\|P_X)$', fontsize = 15)\n",
    "#plt.ylabel('$D_g(P_{Y|W}\\|P_Y)$', fontsize = 15)\n",
    "plt.xlabel('$p_{xw}$', fontsize = 15)\n",
    "plt.ylabel('$\\phi(\\lambda, p)$', fontsize = 15)\n",
    "plt.title('$\\lambda = $ %f' %lambda_)\n",
    "\n",
    "points = np.transpose(np.vstack((p, phi_list)))\n",
    "hull = ConvexHull(points)\n",
    "\n",
    "plt.plot(points[:,0], points[:,1], 'o')\n",
    "for simplex in hull.simplices:\n",
    "    plt.plot(points[simplex, 0], points[simplex, 1], 'r--')\n",
    "\n"
   ]
  },
  {
   "cell_type": "code",
   "execution_count": null,
   "metadata": {
    "collapsed": true
   },
   "outputs": [],
   "source": []
  },
  {
   "cell_type": "code",
   "execution_count": null,
   "metadata": {
    "collapsed": true
   },
   "outputs": [],
   "source": []
  },
  {
   "cell_type": "code",
   "execution_count": 77,
   "metadata": {},
   "outputs": [
    {
     "name": "stdout",
     "output_type": "stream",
     "text": [
      "0.0\n"
     ]
    }
   ],
   "source": [
    "#np.random.seed(100)\n",
    "\n",
    "''' Create the Channel Transition Matrix '''\n",
    "n = 1\n",
    "m = 1\n",
    "p_xw = stochastic_matrix(m, 1)\n",
    "T = stochastic_matrix(n,m)\n",
    "p_yw = np.dot(T, p_xw)\n",
    "\n",
    "p_x = stochastic_matrix(m, 1)\n",
    "p_y = stochastic_matrix(n, 1)\n",
    "\n",
    "f_kl = lambda t: t*np.log(t)\n",
    "g_kl = lambda t: t*np.log(t)\n",
    "\n",
    "lambda_ = 1\n",
    "\n",
    "mc_size = 1000\n",
    "phi_list = []\n",
    "for i in range(mc_size):\n",
    "    p_xw = stochastic_matrix(m, 1)\n",
    "    phi_list.append(phi(f_kl, g_kl, lambda_, p_xw, p_x, p_yw, p_y))\n",
    "    \n",
    "    \n",
    "    \n",
    "    \n",
    "print(phi(f_kl, g_kl, lambda_, p_xw, p_x, p_yw, p_y))"
   ]
  },
  {
   "cell_type": "code",
   "execution_count": 13,
   "metadata": {},
   "outputs": [
    {
     "name": "stdout",
     "output_type": "stream",
     "text": [
      "[[ 0.23624848]\n",
      " [ 0.08746248]\n",
      " [ 0.27917688]\n",
      " [ 0.12509262]\n",
      " [ 0.27201954]]\n",
      "[[ 0.16314046]\n",
      " [ 0.20348313]\n",
      " [ 0.27197534]\n",
      " [ 0.09624802]\n",
      " [ 0.26515304]]\n",
      "[ 0.06066609]\n"
     ]
    }
   ],
   "source": [
    "p = stochastic_matrix(1, 1)\n",
    "q = stochastic_matrix(1, 1)\n",
    "\n",
    "print(p)\n",
    "print(q)\n",
    "f_kl = lambda t: t*np.log(t)\n",
    "print(f_divergence(f_kl, p, q))"
   ]
  },
  {
   "cell_type": "code",
   "execution_count": 9,
   "metadata": {},
   "outputs": [
    {
     "name": "stdout",
     "output_type": "stream",
     "text": [
      "[[ 0.1711128   0.18585547  0.12667749  0.1722065   0.11964093]\n",
      " [ 0.16320908  0.02968973  0.00414926  0.0117671   0.19950734]\n",
      " [ 0.0522137   0.08514792  0.19201998  0.07739423  0.09406118]\n",
      " [ 0.04924662  0.07206406  0.11505224  0.12455079  0.01398236]\n",
      " [ 0.0617001   0.15907198  0.18704552  0.07720522  0.02069227]\n",
      " [ 0.06568359  0.03971204  0.06562562  0.06092879  0.00246806]\n",
      " [ 0.18863181  0.10474842  0.1360541   0.12288775  0.06917972]\n",
      " [ 0.05898885  0.07974434  0.0151514   0.1707401   0.18483561]\n",
      " [ 0.18790163  0.18787022  0.00403243  0.00652935  0.1938976 ]\n",
      " [ 0.00131183  0.05609584  0.15419195  0.17579016  0.10173494]]\n"
     ]
    }
   ],
   "source": [
    "matrix = np.random.rand(10, 5)\n",
    "print(matrix/matrix.sum(axis=0))"
   ]
  },
  {
   "cell_type": "code",
   "execution_count": null,
   "metadata": {
    "collapsed": true
   },
   "outputs": [],
   "source": []
  },
  {
   "cell_type": "code",
   "execution_count": 25,
   "metadata": {},
   "outputs": [
    {
     "data": {
      "image/png": "[encoded data removed]",
      "text/plain": [
       "<matplotlib.figure.Figure at 0x113ee40f0>"
      ]
     },
     "metadata": {},
     "output_type": "display_data"
    }
   ],
   "source": [
    "points = np.random.normal(0, 1, size=(10000, 2))\n",
    "hull = ConvexHull(points)\n",
    "\n",
    "plt.plot(points[:,0], points[:,1], 'o')\n",
    "for simplex in hull.simplices:\n",
    "    plt.plot(points[simplex, 0], points[simplex, 1], 'r--')"
   ]
  },
  {
   "cell_type": "code",
   "execution_count": 67,
   "metadata": {},
   "outputs": [
    {
     "name": "stdout",
     "output_type": "stream",
     "text": [
      "(1, 1)\n"
     ]
    }
   ],
   "source": [
    "print(phi_list[0].shape)"
   ]
  },
  {
   "cell_type": "code",
   "execution_count": 13,
   "metadata": {},
   "outputs": [
    {
     "name": "stdout",
     "output_type": "stream",
     "text": [
      "1.45951943083\n"
     ]
    }
   ],
   "source": [
    "print(f_divergence(f_kl, p_x, p_y)[0])"
   ]
  },
  {
   "cell_type": "code",
   "execution_count": 47,
   "metadata": {},
   "outputs": [
    {
     "name": "stdout",
     "output_type": "stream",
     "text": [
      "(2, 100)\n"
     ]
    }
   ],
   "source": [
    "print(points.shape)"
   ]
  },
  {
   "cell_type": "code",
   "execution_count": 27,
   "metadata": {},
   "outputs": [
    {
     "name": "stdout",
     "output_type": "stream",
     "text": [
      "[[1 2 3]\n",
      " [4 5 6]]\n"
     ]
    }
   ],
   "source": [
    "print(np.vstack(([1, 2, 3], [4, 5, 6])))"
   ]
  },
  {
   "cell_type": "code",
   "execution_count": 41,
   "metadata": {},
   "outputs": [
    {
     "name": "stdout",
     "output_type": "stream",
     "text": [
      "[0.4608590366158236, 0.5391054314763023, 0.43182183848362465, 0.03373430503139351, 0.5490202361413793, 0.6190441468300831, 0.5340737235316476, 0.7417998372589094, 0.8337456818946629, 0.8033765818951015, 0.9255398656079338, 0.21017247885536586, 0.4261012425668463, 0.8798529873379611, 0.9754330649673518, 0.6624662201179605, 0.34187707686284047, 0.661218311551545, 0.2884610481312894, 0.5007421677273733, 0.9355677023244409, 0.8903517008864863, 0.14598185252524032, 0.3939972283867443, 0.24658670687082082, 0.20217378429346994, 0.4934440995730508, 0.8293241215791847, 0.9839793581954034, 0.09786366190252656, 0.27790145908299657, 0.6063233163844179, 0.4901622518225669, 0.7232243014550495, 0.2337673656785284, 0.6269351265103026, 0.45205396129939546, 0.4306404160571256, 0.8736244640416067, 0.9694283045154444, 0.5986062057188899, 0.359026702109784, 0.663452738463199, 0.5897740759609467, 0.2630002507571572, 0.04091718553203557, 0.020077762777591417, 0.5695091727429363, 0.2942708653233008, 0.060619382361752155, 0.9040281204721428, 0.11166898909063065, 0.7536297366905431, 0.42793655457653995, 0.4345267377345022, 0.5482829722598919, 0.6689187097224332, 0.7630429546530314, 0.8046019826482418, 0.6132590106337805, 0.8964255465690225, 0.4648207157155192, 0.6097689516310958, 0.9902082087292696, 0.6679343031322162, 0.3834549900878977, 0.912350509874459, 0.8702614699996588, 0.4165425139884265, 0.7837591362800227, 0.6333948233364288, 0.09003430068590516, 0.5188571898830782, 0.9089078598639486, 0.5752567379222006, 0.6500133383015982, 0.44431889186900414, 0.9537884024423502, 0.4220999698770986, 0.5571457112083404, 0.5873502754344533, 0.42938664956417133, 0.706237765967799, 0.6786696851779108, 0.43717028527796076, 0.6196118186314974, 0.4947026524151612, 0.4023637042399118, 0.8969712134767625, 0.5916321649647407, 0.31587472713975046, 0.7081494100820326, 0.7123910561413666, 0.4573708253061435, 0.45979369819669874, 0.4916602612842337, 0.549430684678885, 0.5503714790277118, 0.2414731316669493, 0.4442673579866632]\n"
     ]
    }
   ],
   "source": [
    "print(p)"
   ]
  },
  {
   "cell_type": "code",
   "execution_count": 43,
   "metadata": {},
   "outputs": [
    {
     "ename": "TypeError",
     "evalue": "data type not understood",
     "output_type": "error",
     "traceback": [
      "\u001b[0;31m---------------------------------------------------------------------------\u001b[0m",
      "\u001b[0;31mTypeError\u001b[0m                                 Traceback (most recent call last)",
      "\u001b[0;32m<ipython-input-43-54be5fec2784>\u001b[0m in \u001b[0;36m<module>\u001b[0;34m()\u001b[0m\n\u001b[0;32m----> 1\u001b[0;31m \u001b[0mnp\u001b[0m\u001b[0;34m.\u001b[0m\u001b[0mmatrix\u001b[0m\u001b[0;34m(\u001b[0m\u001b[0;34m[\u001b[0m\u001b[0;36m1\u001b[0m\u001b[0;34m,\u001b[0m \u001b[0;36m2\u001b[0m\u001b[0;34m,\u001b[0m \u001b[0;36m3\u001b[0m\u001b[0;34m]\u001b[0m\u001b[0;34m,\u001b[0m \u001b[0;34m[\u001b[0m\u001b[0;36m4\u001b[0m\u001b[0;34m,\u001b[0m \u001b[0;36m5\u001b[0m\u001b[0;34m,\u001b[0m \u001b[0;36m6\u001b[0m\u001b[0;34m]\u001b[0m\u001b[0;34m)\u001b[0m\u001b[0;34m\u001b[0m\u001b[0m\n\u001b[0m",
      "\u001b[0;32m/Users/hsianghsu/anaconda/lib/python3.6/site-packages/numpy/matrixlib/defmatrix.py\u001b[0m in \u001b[0;36m__new__\u001b[0;34m(subtype, data, dtype, copy)\u001b[0m\n\u001b[1;32m    234\u001b[0m \u001b[0;34m\u001b[0m\u001b[0m\n\u001b[1;32m    235\u001b[0m         \u001b[0;31m# now convert data to an array\u001b[0m\u001b[0;34m\u001b[0m\u001b[0;34m\u001b[0m\u001b[0m\n\u001b[0;32m--> 236\u001b[0;31m         \u001b[0marr\u001b[0m \u001b[0;34m=\u001b[0m \u001b[0mN\u001b[0m\u001b[0;34m.\u001b[0m\u001b[0marray\u001b[0m\u001b[0;34m(\u001b[0m\u001b[0mdata\u001b[0m\u001b[0;34m,\u001b[0m \u001b[0mdtype\u001b[0m\u001b[0;34m=\u001b[0m\u001b[0mdtype\u001b[0m\u001b[0;34m,\u001b[0m \u001b[0mcopy\u001b[0m\u001b[0;34m=\u001b[0m\u001b[0mcopy\u001b[0m\u001b[0;34m)\u001b[0m\u001b[0;34m\u001b[0m\u001b[0m\n\u001b[0m\u001b[1;32m    237\u001b[0m         \u001b[0mndim\u001b[0m \u001b[0;34m=\u001b[0m \u001b[0marr\u001b[0m\u001b[0;34m.\u001b[0m\u001b[0mndim\u001b[0m\u001b[0;34m\u001b[0m\u001b[0m\n\u001b[1;32m    238\u001b[0m         \u001b[0mshape\u001b[0m \u001b[0;34m=\u001b[0m \u001b[0marr\u001b[0m\u001b[0;34m.\u001b[0m\u001b[0mshape\u001b[0m\u001b[0;34m\u001b[0m\u001b[0m\n",
      "\u001b[0;31mTypeError\u001b[0m: data type not understood"
     ]
    }
   ],
   "source": [
    "np.matrix([1, 2, 3], [4, 5, 6])"
   ]
  },
  {
   "cell_type": "code",
   "execution_count": null,
   "metadata": {
    "collapsed": true
   },
   "outputs": [],
   "source": []
  }
 ],
 "metadata": {
  "anaconda-cloud": {},
  "kernelspec": {
   "display_name": "Python 3",
   "language": "python",
   "name": "python3"
  },
  "language_info": {
   "codemirror_mode": {
    "name": "ipython",
    "version": 3
   },
   "file_extension": ".py",
   "mimetype": "text/x-python",
   "name": "python",
   "nbconvert_exporter": "python",
   "pygments_lexer": "ipython3",
   "version": "3.6.1"
  }
 },
 "nbformat": 4,
 "nbformat_minor": 1
}
