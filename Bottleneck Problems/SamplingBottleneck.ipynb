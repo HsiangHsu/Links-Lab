{
 "cells": [
  {
   "cell_type": "code",
   "execution_count": 1,
   "metadata": {
    "collapsed": true
   },
   "outputs": [],
   "source": [
    "%matplotlib inline\n",
    "import numpy as np\n",
    "import scipy as sp\n",
    "import math\n",
    "import matplotlib\n",
    "import matplotlib.pyplot as plt\n",
    "from cvxpy import *\n",
    "from tqdm import tqdm\n",
    "\n",
    "from scipy.spatial import ConvexHull\n",
    "from scipy.optimize import fsolve, linprog\n",
    "from numpy.linalg import norm, inv, matrix_power\n",
    "from scipy.integrate import simps\n",
    "from scipy.linalg import sqrtm, svd"
   ]
  },
  {
   "cell_type": "code",
   "execution_count": 2,
   "metadata": {
    "collapsed": true
   },
   "outputs": [],
   "source": [
    "''' Helper Functions '''\n",
    "def stochastic_matrix(n, m):\n",
    "    matrix = np.random.rand(n,m)\n",
    "    return matrix/np.sum(matrix)\n",
    "def marginalize(P, axis):\n",
    "    if axis == 'x':\n",
    "        return np.sum(P, 1)\n",
    "    elif axis == 'y':\n",
    "        return np.sum(P, 0)\n",
    "    else:\n",
    "        print('Error #1')\n",
    "        return\n",
    "\n",
    "def PIC(P_XY, P_X, P_Y):\n",
    "    D_X_sqrtinv, D_Y_sqrtinv = np.diag(P_X**(-.5)), np.diag(P_Y**(-.5))\n",
    "    #D_X_sqrtinv, D_Y_sqrtinv = sqrtm(inv(D_X)), sqrtm(inv(D_Y))\n",
    "    Q = np.matmul(np.matmul(D_X_sqrtinv, P_XY), D_Y_sqrtinv)\n",
    "    U, S, V = svd(Q)\n",
    "    f, g = np.matmul(D_X_sqrtinv, U), np.matmul(D_Y_sqrtinv, V.transpose())\n",
    "    pic = np.sqrt(S)\n",
    "    return pic, f, g"
   ]
  },
  {
   "cell_type": "code",
   "execution_count": 3,
   "metadata": {},
   "outputs": [
    {
     "data": {
      "text/plain": [
       "[<matplotlib.lines.Line2D at 0x119de47b8>]"
      ]
     },
     "execution_count": 3,
     "metadata": {},
     "output_type": "execute_result"
    },
    {
     "data": {
      "image/png": "[encoded data removed]",
      "text/plain": [
       "<matplotlib.figure.Figure at 0x11667c748>"
      ]
     },
     "metadata": {},
     "output_type": "display_data"
    }
   ],
   "source": [
    "n_x = 10\n",
    "n_y = 8\n",
    "P_XY = stochastic_matrix(n_x,n_y)\n",
    "P_X = P_XY.sum(axis=1)\n",
    "P_Y = P_XY.sum(axis=0)\n",
    "\n",
    "pic, f, g = PIC(P_XY,P_X,P_Y)\n",
    "plt.plot(range(len(pic)-1),pic[1:])"
   ]
  },
  {
   "cell_type": "code",
   "execution_count": 4,
   "metadata": {},
   "outputs": [
    {
     "name": "stderr",
     "output_type": "stream",
     "text": [
      "100%|██████████| 1000/1000 [01:02<00:00, 16.01it/s]\n"
     ]
    }
   ],
   "source": [
    "# Generate samples\n",
    "\n",
    "# number of dimensions and points\n",
    "n_f = 3\n",
    "F = f[:,1:n_f+1]\n",
    "\n",
    "# generate samples\n",
    "nsamples = 10**3\n",
    "\n",
    "# initialize matrix A\n",
    "A = np.zeros((n_f,nsamples))\n",
    "\n",
    "for i in tqdm(range(nsamples)):\n",
    "    # produce samples\n",
    "    ###### TODO: improve this sampling procedure ######    \n",
    "    a = 5*(2*np.random.rand(n_f,1)-1)\n",
    "    \n",
    "    # check if feasible resample\n",
    "    while (F.dot(a)).min()< -1:\n",
    "        a = 10*(2*np.random.rand(n_f,1)-1)\n",
    "    \n",
    "    A[:,i] = a[:,0]\n",
    "    ##############################################\n",
    "\n"
   ]
  },
  {
   "cell_type": "code",
   "execution_count": 5,
   "metadata": {},
   "outputs": [
    {
     "data": {
      "text/plain": [
       "(array([   5.,   19.,   26.,   42.,   86.,  138.,  194.,  226.,  306.,\n",
       "         341.,  296.,  287.,  312.,  251.,  206.,  148.,   67.,   23.,\n",
       "          21.,    6.]),\n",
       " array([-0.97990174, -0.88774955, -0.79559736, -0.70344517, -0.61129298,\n",
       "        -0.51914079, -0.4269886 , -0.33483641, -0.24268422, -0.15053202,\n",
       "        -0.05837983,  0.03377236,  0.12592455,  0.21807674,  0.31022893,\n",
       "         0.40238112,  0.49453331,  0.5866855 ,  0.67883769,  0.77098988,\n",
       "         0.86314207]),\n",
       " <a list of 20 Patch objects>)"
      ]
     },
     "execution_count": 5,
     "metadata": {},
     "output_type": "execute_result"
    },
    {
     "data": {
      "image/png": "[encoded data removed]",
      "text/plain": [
       "<matplotlib.figure.Figure at 0x116a84d68>"
      ]
     },
     "metadata": {},
     "output_type": "display_data"
    }
   ],
   "source": [
    "# check values of A that we are obtaining\n",
    "plt.hist(A.flatten(),bins=20)"
   ]
  },
  {
   "cell_type": "code",
   "execution_count": 6,
   "metadata": {},
   "outputs": [],
   "source": [
    "# check feasibility\n",
    "\n",
    "# produce constraints\n",
    "w = Variable(nsamples,1)\n",
    "constraints = []\n",
    "constraints.append(w>=0)\n",
    "constraints.append(sum(w)==1.0)\n",
    "constraints.append(A*w==0.0)\n",
    "\n",
    "# produce random cost function\n",
    "### !! Substitute this by true cost !!  ###\n",
    "c = np.random.rand(nsamples,1)\n",
    "################################\n",
    "\n",
    "# construct cvxpy optimization probem\n",
    "obj = Maximize(c.transpose()*w)\n",
    "prob = Problem(obj, constraints)"
   ]
  },
  {
   "cell_type": "code",
   "execution_count": 7,
   "metadata": {},
   "outputs": [],
   "source": [
    "prob.solve()\n",
    "\n",
    "# optimal value\n",
    "optval = prob.value\n",
    "\n",
    "# produce optimal points\n",
    "wv = w.value\n",
    "\n",
    "# keep only values with significant contributions\n",
    "significant_index = np.ravel(wv >1e-8)\n",
    "\n",
    "Asig = A[:,significant_index]\n",
    "P_W = np.ravel(wv[significant_index])\n",
    "\n",
    "# normalize to avoid numerical issues\n",
    "P_W = P_W/sum(P_W)\n",
    "\n",
    "# P_{X|W} (g is for given)\n",
    "P_XgW = np.diag(P_X).dot(1+F.dot(Asig))\n",
    "\n",
    "# Produce joint distribution\n",
    "P_XW = P_XgW.dot(np.diag(P_W))\n",
    "\n",
    "# produce mapping from X to W\n",
    "P_WgX = np.diag(P_X**(-1)).dot(P_XW)"
   ]
  },
  {
   "cell_type": "code",
   "execution_count": 8,
   "metadata": {},
   "outputs": [
    {
     "data": {
      "text/plain": [
       "0.993935853892752"
      ]
     },
     "execution_count": 8,
     "metadata": {},
     "output_type": "execute_result"
    }
   ],
   "source": [
    "optval"
   ]
  },
  {
   "cell_type": "code",
   "execution_count": 15,
   "metadata": {},
   "outputs": [
    {
     "data": {
      "text/plain": [
       "array([[ 0.39436478,  0.4261219 ,  0.16040669,  0.01910663],\n",
       "       [ 0.13416274,  0.44731632,  0.09264201,  0.32587893],\n",
       "       [ 0.78928524,  0.09024422,  0.04668725,  0.07378329],\n",
       "       [ 0.12344291,  0.25240394,  0.00626911,  0.61788404],\n",
       "       [ 0.47821141,  0.12859518,  0.04873707,  0.34445633],\n",
       "       [ 0.20735974,  0.12221033,  0.06416859,  0.60626134],\n",
       "       [ 0.15543029,  0.34289202,  0.06578446,  0.43589323],\n",
       "       [ 0.20624714,  0.43845615,  0.23328942,  0.12200729],\n",
       "       [ 0.33097242,  0.45427535,  0.02528418,  0.18946805],\n",
       "       [ 0.42373069,  0.4674307 ,  0.10557462,  0.00326399]])"
      ]
     },
     "execution_count": 15,
     "metadata": {},
     "output_type": "execute_result"
    }
   ],
   "source": [
    "P_WgX"
   ]
  },
  {
   "cell_type": "code",
   "execution_count": null,
   "metadata": {
    "collapsed": true
   },
   "outputs": [],
   "source": []
  }
 ],
 "metadata": {
  "hide_input": false,
  "kernelspec": {
   "display_name": "Python 3",
   "language": "python",
   "name": "python3"
  },
  "language_info": {
   "codemirror_mode": {
    "name": "ipython",
    "version": 3
   },
   "file_extension": ".py",
   "mimetype": "text/x-python",
   "name": "python",
   "nbconvert_exporter": "python",
   "pygments_lexer": "ipython3",
   "version": "3.6.2"
  }
 },
 "nbformat": 4,
 "nbformat_minor": 2
}
